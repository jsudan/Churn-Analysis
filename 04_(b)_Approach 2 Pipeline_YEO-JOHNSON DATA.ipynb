{
 "cells": [
  {
   "cell_type": "markdown",
   "metadata": {},
   "source": [
    "#### TELECOM CUSTOMER CHURN : DATA 428 PROJECT\n",
    "# 4(B). Approach  2 : Pipeline - Using Yeo - Johnson Data\n",
    "\n",
    "- Rest is same as No.4"
   ]
  },
  {
   "cell_type": "code",
   "execution_count": 2,
   "metadata": {},
   "outputs": [
    {
     "name": "stderr",
     "output_type": "stream",
     "text": [
      "C:\\ProgramData\\Anaconda3\\lib\\site-packages\\sklearn\\cross_validation.py:41: DeprecationWarning: This module was deprecated in version 0.18 in favor of the model_selection module into which all the refactored classes and functions are moved. Also note that the interface of the new CV iterators are different from that of this module. This module will be removed in 0.20.\n",
      "  \"This module will be removed in 0.20.\", DeprecationWarning)\n"
     ]
    }
   ],
   "source": [
    "from sklearn.base import BaseEstimator, TransformerMixin\n",
    "from sklearn.ensemble import ExtraTreesClassifier\n",
    "from sklearn.pipeline import make_pipeline, FeatureUnion, Pipeline\n",
    "from sklearn.preprocessing import OneHotEncoder, Imputer, StandardScaler, LabelEncoder\n",
    "from sklearn.model_selection import train_test_split, GridSearchCV\n",
    "from sklearn.metrics import roc_curve, roc_auc_score\n",
    "from sklearn.svm import SVC\n",
    "import numpy as np\n",
    "import pandas as pd\n",
    "from scipy import interp\n",
    "from sklearn.linear_model import LogisticRegression\n",
    "from sklearn import metrics, neighbors, svm, calibration, tree, ensemble, cross_validation\n",
    "from sklearn.model_selection import StratifiedKFold, cross_validate\n",
    "from sklearn.metrics import roc_curve, auc\n",
    "import matplotlib.pyplot as plt\n",
    "from sklearn import metrics\n",
    "from sklearn.ensemble import RandomForestClassifier\n",
    "#not great but suppressess warning messages \n",
    "import warnings\n",
    "warnings.filterwarnings(\"ignore\")\n",
    "\n",
    "import numpy as np\n",
    "import pandas as pd\n",
    "\n",
    "#import pmlb\n",
    "\n",
    "import random\n",
    "\n",
    "import matplotlib.pyplot as plt\n",
    "%matplotlib inline\n",
    "import seaborn as sns\n",
    "import re\n",
    "\n",
    "sns.set(rc={\"figure.figsize\": (12, 8)})\n"
   ]
  },
  {
   "cell_type": "code",
   "execution_count": 3,
   "metadata": {},
   "outputs": [],
   "source": [
    "# Using dataset with better column names\n",
    "\n",
    "data = pd.read_csv(\"telecom_data_better_colnames.csv\")"
   ]
  },
  {
   "cell_type": "code",
   "execution_count": 4,
   "metadata": {},
   "outputs": [],
   "source": [
    "data.drop('Unnamed: 0', axis=1, inplace=True)"
   ]
  },
  {
   "cell_type": "code",
   "execution_count": 5,
   "metadata": {},
   "outputs": [
    {
     "data": {
      "text/plain": [
       "(100000, 100)"
      ]
     },
     "execution_count": 5,
     "metadata": {},
     "output_type": "execute_result"
    }
   ],
   "source": [
    "data.shape"
   ]
  },
  {
   "cell_type": "code",
   "execution_count": 6,
   "metadata": {},
   "outputs": [],
   "source": [
    "# Checking the data types\n",
    "#data.dtypes"
   ]
  },
  {
   "cell_type": "markdown",
   "metadata": {},
   "source": [
    "## Data Wrangling - following issues to be addressed\n",
    "    - 'geographic_area' : names can be made better to avoid errors (learnt after making mistakes initially)\n",
    "    - drop rows with outliers \n",
    "    - drop columns with very high 'nan' / blanks\n",
    "    - drop columns like 'child_between_0_to_2_years_in_house' "
   ]
  },
  {
   "cell_type": "code",
   "execution_count": 7,
   "metadata": {},
   "outputs": [
    {
     "data": {
      "text/plain": [
       "array(['NORTHWEST/ROCKY MOUNTAIN AREA', 'CHICAGO AREA',\n",
       "       'GREAT LAKES AREA', 'NEW ENGLAND AREA', 'DALLAS AREA',\n",
       "       'CENTRAL/SOUTH TEXAS AREA', 'TENNESSEE AREA', 'MIDWEST AREA',\n",
       "       'PHILADELPHIA AREA', 'OHIO AREA', 'HOUSTON AREA', 'SOUTHWEST AREA',\n",
       "       'NEW YORK CITY AREA', 'ATLANTIC SOUTH AREA', 'SOUTH FLORIDA AREA',\n",
       "       'CALIFORNIA NORTH AREA', 'DC/MARYLAND/VIRGINIA AREA',\n",
       "       'NORTH FLORIDA AREA', nan, 'LOS ANGELES AREA'], dtype=object)"
      ]
     },
     "execution_count": 7,
     "metadata": {},
     "output_type": "execute_result"
    }
   ],
   "source": [
    "data[\"geogrpahic_area\"].unique()"
   ]
  },
  {
   "cell_type": "code",
   "execution_count": 8,
   "metadata": {},
   "outputs": [],
   "source": [
    "geo_area = []\n",
    "for i in range(len(data)):\n",
    "    item = data[\"geogrpahic_area\"][i]\n",
    "    #print(item)\n",
    "    if type(item) is float:\n",
    "        geo_area.append(item)\n",
    "        #print(item)\n",
    "    else:\n",
    "        name = item.replace(' ', '_')\n",
    "        name = name.replace('/', '_')\n",
    "        geo_area.append(name)"
   ]
  },
  {
   "cell_type": "code",
   "execution_count": 9,
   "metadata": {},
   "outputs": [],
   "source": [
    "data.drop(\"geogrpahic_area\", inplace=True, axis=1)"
   ]
  },
  {
   "cell_type": "code",
   "execution_count": 10,
   "metadata": {},
   "outputs": [],
   "source": [
    "data[\"geogrpahic_area\"] = geo_area"
   ]
  },
  {
   "cell_type": "code",
   "execution_count": 11,
   "metadata": {
    "scrolled": true
   },
   "outputs": [
    {
     "data": {
      "text/plain": [
       "array(['NORTHWEST_ROCKY_MOUNTAIN_AREA', 'CHICAGO_AREA',\n",
       "       'GREAT_LAKES_AREA', 'NEW_ENGLAND_AREA', 'DALLAS_AREA',\n",
       "       'CENTRAL_SOUTH_TEXAS_AREA', 'TENNESSEE_AREA', 'MIDWEST_AREA',\n",
       "       'PHILADELPHIA_AREA', 'OHIO_AREA', 'HOUSTON_AREA', 'SOUTHWEST_AREA',\n",
       "       'NEW_YORK_CITY_AREA', 'ATLANTIC_SOUTH_AREA', 'SOUTH_FLORIDA_AREA',\n",
       "       'CALIFORNIA_NORTH_AREA', 'DC_MARYLAND_VIRGINIA_AREA',\n",
       "       'NORTH_FLORIDA_AREA', nan, 'LOS_ANGELES_AREA'], dtype=object)"
      ]
     },
     "execution_count": 11,
     "metadata": {},
     "output_type": "execute_result"
    }
   ],
   "source": [
    "data[\"geogrpahic_area\"].unique()"
   ]
  },
  {
   "cell_type": "code",
   "execution_count": 12,
   "metadata": {},
   "outputs": [
    {
     "data": {
      "text/plain": [
       "(100000, 100)"
      ]
     },
     "execution_count": 12,
     "metadata": {},
     "output_type": "execute_result"
    }
   ],
   "source": [
    "data.shape"
   ]
  },
  {
   "cell_type": "markdown",
   "metadata": {},
   "source": [
    "#### no_of_unique_subscribers_in_the_house \n",
    "    - This feature has numeric discrete values and some outliers like 196 unique users in a house.\n",
    "    - It's either a wrong entry or a 'close user group' (CUG) scenario of an organisation. \n",
    "    - Hence, dropping any entry with more than 20 subscribers in the house (making concessions for a hostel)"
   ]
  },
  {
   "cell_type": "code",
   "execution_count": 13,
   "metadata": {},
   "outputs": [
    {
     "data": {
      "text/plain": [
       "array([  2,   1,   3,   5,   4,   6,   7,   9,   8,  12,  11,  10,  13,\n",
       "        18, 196], dtype=int64)"
      ]
     },
     "execution_count": 13,
     "metadata": {},
     "output_type": "execute_result"
    }
   ],
   "source": [
    "data['no_of_unique_subscribers_in_the_house'].unique()"
   ]
  },
  {
   "cell_type": "code",
   "execution_count": 14,
   "metadata": {},
   "outputs": [],
   "source": [
    "for i in range(len(data)): \n",
    "    \n",
    "    value = data['no_of_unique_subscribers_in_the_house'][i]\n",
    "       \n",
    "    if value > 20:\n",
    "        data.drop(data.index[i], inplace = True)   \n",
    "data = data.reset_index()\n",
    "data.drop('index', axis = 1, inplace=True)\n",
    "\n",
    "#         no_of_unique_subscribers.append('low')\n",
    "#     elif value > 2 and value < 7:\n",
    "#         no_of_unique_subscribers.append('medium')\n",
    "#     else:\n",
    "#         no_of_unique_subscribers.append('high')"
   ]
  },
  {
   "cell_type": "code",
   "execution_count": 15,
   "metadata": {},
   "outputs": [],
   "source": [
    "for i in range(len(data)): \n",
    "    \n",
    "    value_2 = data['no_of_active_subscribers_in_house'][i]\n",
    "       \n",
    "    if value_2 > 20:\n",
    "        data.drop(data.index[i], inplace = True)    \n",
    "        \n",
    "data = data.reset_index()\n",
    "data.drop('index', axis = 1, inplace=True)   "
   ]
  },
  {
   "cell_type": "code",
   "execution_count": 16,
   "metadata": {
    "scrolled": true
   },
   "outputs": [
    {
     "data": {
      "text/plain": [
       "(99999, 100)"
      ]
     },
     "execution_count": 16,
     "metadata": {},
     "output_type": "execute_result"
    }
   ],
   "source": [
    "data.shape"
   ]
  },
  {
   "cell_type": "markdown",
   "metadata": {},
   "source": [
    "### Dropping features with large missing values\n",
    "    - 'known_no_of_vehicles' - 49.3% values missing (refer the data exploration notebook)"
   ]
  },
  {
   "cell_type": "code",
   "execution_count": 17,
   "metadata": {},
   "outputs": [],
   "source": [
    "data.drop('known_no_of_vehicles', inplace=True, axis = 1)"
   ]
  },
  {
   "cell_type": "code",
   "execution_count": 18,
   "metadata": {},
   "outputs": [],
   "source": [
    "data.drop('cust_id', inplace=True, axis = 1)"
   ]
  },
  {
   "cell_type": "markdown",
   "metadata": {},
   "source": [
    "### FEATURES WITH 'U'  : Assuming 'U' to be 'Unknown' or 'Missing Value'\n",
    "\n",
    "    - new_cell_phone_user : 66.9% 'U' values, which are as good as missing values\n",
    "    - dualband :  \"Y\", \"N\", \"T\", \"U\".  Where 'U' is only 0.02%"
   ]
  },
  {
   "cell_type": "code",
   "execution_count": 19,
   "metadata": {},
   "outputs": [
    {
     "data": {
      "text/plain": [
       "U    66913\n",
       "Y    19301\n",
       "N    13785\n",
       "Name: new_cell_phone_user, dtype: int64"
      ]
     },
     "execution_count": 19,
     "metadata": {},
     "output_type": "execute_result"
    }
   ],
   "source": [
    "data.new_cell_phone_user.value_counts()"
   ]
  },
  {
   "cell_type": "code",
   "execution_count": 20,
   "metadata": {},
   "outputs": [],
   "source": [
    "data.drop('new_cell_phone_user', inplace=True, axis = 1)"
   ]
  },
  {
   "cell_type": "code",
   "execution_count": 21,
   "metadata": {
    "scrolled": true
   },
   "outputs": [
    {
     "data": {
      "text/plain": [
       "Y    72264\n",
       "N    23196\n",
       "T     4316\n",
       "U      222\n",
       "Name: dualband, dtype: int64"
      ]
     },
     "execution_count": 21,
     "metadata": {},
     "output_type": "execute_result"
    }
   ],
   "source": [
    "# Need to decide - what to do with 'U'\n",
    "\n",
    "data.dualband.value_counts()"
   ]
  },
  {
   "cell_type": "code",
   "execution_count": 22,
   "metadata": {},
   "outputs": [],
   "source": [
    "data['dualband'] = data['dualband'].str.replace('U','Y')"
   ]
  },
  {
   "cell_type": "code",
   "execution_count": 23,
   "metadata": {},
   "outputs": [
    {
     "data": {
      "text/plain": [
       "WCMB    75732\n",
       "WC      13843\n",
       "UNKW      235\n",
       "Name: handset_web_capability, dtype: int64"
      ]
     },
     "execution_count": 23,
     "metadata": {},
     "output_type": "execute_result"
    }
   ],
   "source": [
    "# need to decide what to do with 'UNKW'\n",
    "data.handset_web_capability.value_counts()"
   ]
  },
  {
   "cell_type": "code",
   "execution_count": 24,
   "metadata": {},
   "outputs": [],
   "source": [
    "data['handset_web_capability'] = data['handset_web_capability'].str.replace('UNKW', 'WCMB')"
   ]
  },
  {
   "cell_type": "code",
   "execution_count": 25,
   "metadata": {
    "scrolled": true
   },
   "outputs": [
    {
     "data": {
      "text/plain": [
       "U    37332\n",
       "M    31052\n",
       "S    17627\n",
       "B     7116\n",
       "A     5140\n",
       "Name: marital_status, dtype: int64"
      ]
     },
     "execution_count": 25,
     "metadata": {},
     "output_type": "execute_result"
    }
   ],
   "source": [
    "# Need to decide what to do with 'U'\n",
    "data.marital_status.value_counts()"
   ]
  },
  {
   "cell_type": "markdown",
   "metadata": {},
   "source": [
    "### Dropping five columns of 'children in house' as data very sparse and not clear"
   ]
  },
  {
   "cell_type": "code",
   "execution_count": 26,
   "metadata": {},
   "outputs": [],
   "source": [
    "list_of_children = ['child_0_to_2_yrs_in_house', 'child_3_to_5_yrs_in_house',\n",
    "                   'child_6_to_10_yrs_in_house', 'child_11_to_15_yrs_in_house',\n",
    "                   'child_16_to_17_yrs_in_house']"
   ]
  },
  {
   "cell_type": "code",
   "execution_count": 27,
   "metadata": {},
   "outputs": [],
   "source": [
    "#redundant_unknown_features = [\"truck_indicator\", \"rv_indicator\", \"foreign_travel_dummy_variable\", \"infobase_match\"]"
   ]
  },
  {
   "cell_type": "code",
   "execution_count": 28,
   "metadata": {},
   "outputs": [],
   "source": [
    "def drop_feature(drop_list):\n",
    "    for feature in drop_list:\n",
    "        data.drop(feature, inplace=True, axis = 1)"
   ]
  },
  {
   "cell_type": "code",
   "execution_count": 29,
   "metadata": {},
   "outputs": [],
   "source": [
    "drop_feature(list_of_children)"
   ]
  },
  {
   "cell_type": "code",
   "execution_count": 30,
   "metadata": {
    "scrolled": true
   },
   "outputs": [
    {
     "data": {
      "text/plain": [
       "(99999, 92)"
      ]
     },
     "execution_count": 30,
     "metadata": {},
     "output_type": "execute_result"
    }
   ],
   "source": [
    "data.shape"
   ]
  },
  {
   "cell_type": "markdown",
   "metadata": {},
   "source": [
    "### Converting categories with less than 5% representation in the Dataset into 'others' category  to avoid 'near zero variance' problem."
   ]
  },
  {
   "cell_type": "markdown",
   "metadata": {},
   "source": [
    "#### Feature - credit_class_code"
   ]
  },
  {
   "cell_type": "code",
   "execution_count": 31,
   "metadata": {},
   "outputs": [
    {
     "data": {
      "text/plain": [
       "array(['A', 'EA', 'C', 'B', 'BA', 'D', 'G', 'CA', 'I', 'AA', 'J', 'U',\n",
       "       'Z', 'K', 'E', 'E4', 'W', 'DA', 'Y', 'CC', 'GA', 'D4', 'D5', 'H',\n",
       "       'ZA', 'JF', 'B2', 'IF', 'Z1', 'O', 'M', 'L', 'U1', 'Z4', 'A2', 'V',\n",
       "       'TP', 'EM', 'C2', 'C5', 'S', 'EC', 'Z5', 'D2', 'GY', 'ZY', 'E2',\n",
       "       'A3', 'V1', 'EF', 'Z2', 'CY', 'P1', 'ZF'], dtype=object)"
      ]
     },
     "execution_count": 31,
     "metadata": {},
     "output_type": "execute_result"
    }
   ],
   "source": [
    "# To see the 54 categories in this feature\n",
    "data.credit_class_code.unique()\n",
    "\n",
    "# To see the count of each category ( in next step - clubbing all < 5% i.e., 5000 count into 'others')\n",
    "#data.credit_class_code.value_counts()"
   ]
  },
  {
   "cell_type": "code",
   "execution_count": 32,
   "metadata": {},
   "outputs": [],
   "source": [
    "cat_required = [\"AA\", \"A\", \"BA\", \"CA\", \"EA\"]\n",
    "cat_with_others = []\n",
    "\n",
    "for i in range(len(data)):\n",
    "    cat = data.credit_class_code[i]\n",
    "    \n",
    "    if cat in cat_required:\n",
    "        cat_with_others.append(cat)\n",
    "        \n",
    "    if cat not in cat_required:\n",
    "        cat_with_others.append(\"others\")\n",
    "    "
   ]
  },
  {
   "cell_type": "code",
   "execution_count": 33,
   "metadata": {},
   "outputs": [],
   "source": [
    "data.credit_class_code = cat_with_others"
   ]
  },
  {
   "cell_type": "code",
   "execution_count": 34,
   "metadata": {},
   "outputs": [
    {
     "data": {
      "text/plain": [
       "array(['A', 'EA', 'others', 'BA', 'CA', 'AA'], dtype=object)"
      ]
     },
     "execution_count": 34,
     "metadata": {},
     "output_type": "execute_result"
    }
   ],
   "source": [
    "data.credit_class_code.unique()"
   ]
  },
  {
   "cell_type": "markdown",
   "metadata": {},
   "source": [
    "#### Feature - ethnicity_roll_to_up_code : Same steps as above."
   ]
  },
  {
   "cell_type": "code",
   "execution_count": 35,
   "metadata": {},
   "outputs": [],
   "source": [
    "ethnicity_code = []\n",
    "ethnicity_code_required = [\"X\", \"P\", \"M\", \"R\", \"D\", \"B\", \"F\"]\n",
    "\n",
    "for i in range(len(data)):\n",
    "    cat = data.ethnicity_roll_to_up_code[i]\n",
    "    \n",
    "    if cat in ethnicity_code_required:\n",
    "        ethnicity_code.append(\"others\")\n",
    "        \n",
    "    if cat not in ethnicity_code_required:\n",
    "        ethnicity_code.append(cat)\n",
    "        "
   ]
  },
  {
   "cell_type": "code",
   "execution_count": 36,
   "metadata": {},
   "outputs": [],
   "source": [
    "data['ethnicity_roll_to_up_code'] = ethnicity_code"
   ]
  },
  {
   "cell_type": "code",
   "execution_count": 37,
   "metadata": {},
   "outputs": [
    {
     "data": {
      "text/plain": [
       "array(['N', 'Z', 'U', 'I', 'S', 'others', 'J', 'H', 'G', 'O', nan, 'C'],\n",
       "      dtype=object)"
      ]
     },
     "execution_count": 37,
     "metadata": {},
     "output_type": "execute_result"
    }
   ],
   "source": [
    "data['ethnicity_roll_to_up_code'].unique()"
   ]
  },
  {
   "cell_type": "code",
   "execution_count": 38,
   "metadata": {},
   "outputs": [
    {
     "data": {
      "text/plain": [
       "(99999, 92)"
      ]
     },
     "execution_count": 38,
     "metadata": {},
     "output_type": "execute_result"
    }
   ],
   "source": [
    "data.shape"
   ]
  },
  {
   "cell_type": "markdown",
   "metadata": {},
   "source": [
    "### Defining lists of different types of data in the dataset"
   ]
  },
  {
   "cell_type": "markdown",
   "metadata": {},
   "source": [
    "numeric_but_cat_for_imputation = \"no_of_unique_subscribers_in_the_house\",\n",
    "                                 \"no_of_active_subscribers_in_house\",\n",
    "                                 \"no_of_handsets_issued\",\n",
    "                                 \"no_of_models_issued\",\n",
    "                                 \"truck_indicator\",\n",
    "                                 \"rv_indicator\",\n",
    "                                 \"foreign_travel_dummy_variable\", \n",
    "                                 \"no_of_adults_in_house\",\n",
    "                                 \"estimated_income\",\n",
    "                                 \"length_of_residence\"\n"
   ]
  },
  {
   "cell_type": "code",
   "execution_count": 39,
   "metadata": {},
   "outputs": [],
   "source": [
    "numeric_df = data.corr()"
   ]
  },
  {
   "cell_type": "code",
   "execution_count": 40,
   "metadata": {},
   "outputs": [],
   "source": [
    "list_numeric_cols = list(numeric_df.columns)\n",
    "#data[list_numeric_cols].describe()"
   ]
  },
  {
   "cell_type": "code",
   "execution_count": 41,
   "metadata": {},
   "outputs": [],
   "source": [
    "# Features which have '0' and '1' value\n",
    "\n",
    "binary_features = [\"truck_indicator\", \"rv_indicator\", \"foreign_travel_dummy_variable\"]"
   ]
  },
  {
   "cell_type": "code",
   "execution_count": 42,
   "metadata": {},
   "outputs": [
    {
     "data": {
      "text/plain": [
       "7"
      ]
     },
     "execution_count": 42,
     "metadata": {},
     "output_type": "execute_result"
    }
   ],
   "source": [
    "numeric_but_cat_for_imputation = [\"no_of_unique_subscribers_in_the_house\",\n",
    "                \"no_of_active_subscribers_in_house\",\n",
    "                \"no_of_handsets_issued\",\n",
    "                \"no_of_models_issued\",\n",
    "                \"estimated_income\",\n",
    "                \"length_of_residence\",\n",
    "                \"no_of_adults_in_house\"]\n",
    "len(numeric_but_cat_for_imputation)"
   ]
  },
  {
   "cell_type": "code",
   "execution_count": 43,
   "metadata": {},
   "outputs": [
    {
     "data": {
      "text/plain": [
       "66"
      ]
     },
     "execution_count": 43,
     "metadata": {},
     "output_type": "execute_result"
    }
   ],
   "source": [
    "numeric_features_set = set(list_numeric_cols) - set(binary_features) - set(numeric_but_cat_for_imputation)\n",
    "numeric_features = list(numeric_features_set)\n",
    "numeric_features = [c for c in data[numeric_features] if c not in [\"churn\"]]\n",
    "len(numeric_features)"
   ]
  },
  {
   "cell_type": "code",
   "execution_count": 44,
   "metadata": {},
   "outputs": [
    {
     "data": {
      "text/plain": [
       "False"
      ]
     },
     "execution_count": 44,
     "metadata": {},
     "output_type": "execute_result"
    }
   ],
   "source": [
    "# Just to check\n",
    "\"foreign_travel_dummy_variable\"  in numeric_features"
   ]
  },
  {
   "cell_type": "code",
   "execution_count": 45,
   "metadata": {},
   "outputs": [
    {
     "data": {
      "text/plain": [
       "15"
      ]
     },
     "execution_count": 45,
     "metadata": {},
     "output_type": "execute_result"
    }
   ],
   "source": [
    "categorical_features_set = set(list(data.columns)) - set(numeric_features) - set(binary_features) - set(numeric_but_cat_for_imputation)\n",
    "categorical_features = list(categorical_features_set)\n",
    "categorical_features = [c for c in data[categorical_features] if c not in [\"churn\"]]\n",
    "len(categorical_features)"
   ]
  },
  {
   "cell_type": "code",
   "execution_count": 46,
   "metadata": {
    "scrolled": true
   },
   "outputs": [
    {
     "data": {
      "text/plain": [
       "False"
      ]
     },
     "execution_count": 46,
     "metadata": {},
     "output_type": "execute_result"
    }
   ],
   "source": [
    "# just to check\n",
    "\"churn\" in (categorical_features or numeric_features)"
   ]
  },
  {
   "cell_type": "markdown",
   "metadata": {},
   "source": [
    "# CHOOSE Log OR Yeo-Johnson Transform below\n",
    "\n",
    "#### For Log Transformation, continue with the following cells.\n",
    "#### For Yeo-J Transofromation, you may skip the log transform and go ahead to next cells."
   ]
  },
  {
   "cell_type": "markdown",
   "metadata": {},
   "source": [
    "### Log Transformation of Numeric Data"
   ]
  },
  {
   "cell_type": "code",
   "execution_count": 83,
   "metadata": {},
   "outputs": [],
   "source": [
    "data.to_csv('data_before_transform.csv')"
   ]
  },
  {
   "cell_type": "code",
   "execution_count": 85,
   "metadata": {},
   "outputs": [],
   "source": [
    "# Not using the dataframe 'data' to preserve it's integrity.\n",
    "\n",
    "data_before_transform = pd.read_csv('data_before_transform.csv')"
   ]
  },
  {
   "cell_type": "code",
   "execution_count": 86,
   "metadata": {},
   "outputs": [],
   "source": [
    "data_before_transform.drop('Unnamed: 0', axis=1, inplace=True)"
   ]
  },
  {
   "cell_type": "code",
   "execution_count": 88,
   "metadata": {},
   "outputs": [
    {
     "data": {
      "text/plain": [
       "(99999, 92)"
      ]
     },
     "execution_count": 88,
     "metadata": {},
     "output_type": "execute_result"
    }
   ],
   "source": [
    "data_before_transform.shape"
   ]
  },
  {
   "cell_type": "code",
   "execution_count": 89,
   "metadata": {},
   "outputs": [],
   "source": [
    "numeric_cols = [c for c in numeric_features if c not in [\"churn\"]]"
   ]
  },
  {
   "cell_type": "code",
   "execution_count": 244,
   "metadata": {
    "scrolled": true
   },
   "outputs": [
    {
     "data": {
      "text/html": [
       "<div>\n",
       "<style scoped>\n",
       "    .dataframe tbody tr th:only-of-type {\n",
       "        vertical-align: middle;\n",
       "    }\n",
       "\n",
       "    .dataframe tbody tr th {\n",
       "        vertical-align: top;\n",
       "    }\n",
       "\n",
       "    .dataframe thead th {\n",
       "        text-align: right;\n",
       "    }\n",
       "</style>\n",
       "<table border=\"1\" class=\"dataframe\">\n",
       "  <thead>\n",
       "    <tr style=\"text-align: right;\">\n",
       "      <th></th>\n",
       "      <th>avg_no_of_attempted_calls</th>\n",
       "      <th>avg_no_of_blocked_voice_calls</th>\n",
       "      <th>avg_no_of_attempted_voice_calls_placed</th>\n",
       "      <th>avg_total_mthly_recurring_charge</th>\n",
       "      <th>avg_unrounded_mins_of_outbound_wireless_to_wireless_voice_calls</th>\n",
       "      <th>no_of_days_of_current_equipment</th>\n",
       "      <th>avg_no_of_completed_data_calls</th>\n",
       "      <th>avg_mthly_rev_over_the_previous_three_months</th>\n",
       "      <th>avg_mthly_mins_over_the_previous_six_months</th>\n",
       "      <th>avg_no_of_peak_data_calls</th>\n",
       "      <th>...</th>\n",
       "      <th>current_handset_price</th>\n",
       "      <th>avg_no_of_inbound_wireless_to_wireless_voice_calls</th>\n",
       "      <th>avg_no_of_off_to_peak_voice_calls</th>\n",
       "      <th>avg_no_of_recieved_sms</th>\n",
       "      <th>avg_unrounded_mins_of_received_voice_calls</th>\n",
       "      <th>billing_adjusted_total_no_of_calls_over_the_life_of_the_cust</th>\n",
       "      <th>avg_no_of_blocked_data_calls</th>\n",
       "      <th>avg_no_of_unans_data_calls</th>\n",
       "      <th>percntg_change_in_mthly_rev_vs_previous_three_month_avg</th>\n",
       "      <th>avg_no_of_dropped_data_calls</th>\n",
       "    </tr>\n",
       "  </thead>\n",
       "  <tbody>\n",
       "    <tr>\n",
       "      <th>0</th>\n",
       "      <td>52.333333</td>\n",
       "      <td>0.666667</td>\n",
       "      <td>52.333333</td>\n",
       "      <td>22.500</td>\n",
       "      <td>0.000000</td>\n",
       "      <td>NaN</td>\n",
       "      <td>0.0</td>\n",
       "      <td>30</td>\n",
       "      <td>322.0</td>\n",
       "      <td>0.0</td>\n",
       "      <td>...</td>\n",
       "      <td>149.98999</td>\n",
       "      <td>0.000000</td>\n",
       "      <td>24.000000</td>\n",
       "      <td>0.0</td>\n",
       "      <td>97.176667</td>\n",
       "      <td>1602</td>\n",
       "      <td>0.0</td>\n",
       "      <td>0.0</td>\n",
       "      <td>-18.9975</td>\n",
       "      <td>0.0</td>\n",
       "    </tr>\n",
       "    <tr>\n",
       "      <th>1</th>\n",
       "      <td>263.333333</td>\n",
       "      <td>1.000000</td>\n",
       "      <td>263.333333</td>\n",
       "      <td>37.425</td>\n",
       "      <td>24.216667</td>\n",
       "      <td>240.0</td>\n",
       "      <td>0.0</td>\n",
       "      <td>40</td>\n",
       "      <td>477.0</td>\n",
       "      <td>0.0</td>\n",
       "      <td>...</td>\n",
       "      <td>NaN</td>\n",
       "      <td>6.333333</td>\n",
       "      <td>157.000000</td>\n",
       "      <td>0.0</td>\n",
       "      <td>55.280000</td>\n",
       "      <td>14624</td>\n",
       "      <td>0.0</td>\n",
       "      <td>0.0</td>\n",
       "      <td>50.9875</td>\n",
       "      <td>0.0</td>\n",
       "    </tr>\n",
       "    <tr>\n",
       "      <th>2</th>\n",
       "      <td>9.000000</td>\n",
       "      <td>0.000000</td>\n",
       "      <td>9.000000</td>\n",
       "      <td>16.990</td>\n",
       "      <td>0.000000</td>\n",
       "      <td>1504.0</td>\n",
       "      <td>0.0</td>\n",
       "      <td>17</td>\n",
       "      <td>11.0</td>\n",
       "      <td>0.0</td>\n",
       "      <td>...</td>\n",
       "      <td>29.98999</td>\n",
       "      <td>0.000000</td>\n",
       "      <td>1.000000</td>\n",
       "      <td>0.0</td>\n",
       "      <td>0.000000</td>\n",
       "      <td>7888</td>\n",
       "      <td>0.0</td>\n",
       "      <td>0.0</td>\n",
       "      <td>0.0000</td>\n",
       "      <td>0.0</td>\n",
       "    </tr>\n",
       "    <tr>\n",
       "      <th>3</th>\n",
       "      <td>3.666667</td>\n",
       "      <td>0.000000</td>\n",
       "      <td>3.666667</td>\n",
       "      <td>38.000</td>\n",
       "      <td>0.256667</td>\n",
       "      <td>1812.0</td>\n",
       "      <td>0.0</td>\n",
       "      <td>38</td>\n",
       "      <td>50.0</td>\n",
       "      <td>0.0</td>\n",
       "      <td>...</td>\n",
       "      <td>29.98999</td>\n",
       "      <td>0.000000</td>\n",
       "      <td>3.666667</td>\n",
       "      <td>0.0</td>\n",
       "      <td>0.413333</td>\n",
       "      <td>1479</td>\n",
       "      <td>0.0</td>\n",
       "      <td>0.0</td>\n",
       "      <td>0.0000</td>\n",
       "      <td>0.0</td>\n",
       "    </tr>\n",
       "    <tr>\n",
       "      <th>4</th>\n",
       "      <td>222.333333</td>\n",
       "      <td>0.666667</td>\n",
       "      <td>222.333333</td>\n",
       "      <td>71.980</td>\n",
       "      <td>10.816667</td>\n",
       "      <td>434.0</td>\n",
       "      <td>0.0</td>\n",
       "      <td>55</td>\n",
       "      <td>586.0</td>\n",
       "      <td>0.0</td>\n",
       "      <td>...</td>\n",
       "      <td>149.98999</td>\n",
       "      <td>0.666667</td>\n",
       "      <td>90.333333</td>\n",
       "      <td>0.0</td>\n",
       "      <td>106.330000</td>\n",
       "      <td>4452</td>\n",
       "      <td>0.0</td>\n",
       "      <td>0.0</td>\n",
       "      <td>0.0000</td>\n",
       "      <td>0.0</td>\n",
       "    </tr>\n",
       "  </tbody>\n",
       "</table>\n",
       "<p>5 rows × 66 columns</p>\n",
       "</div>"
      ],
      "text/plain": [
       "   avg_no_of_attempted_calls  avg_no_of_blocked_voice_calls  \\\n",
       "0                  52.333333                       0.666667   \n",
       "1                 263.333333                       1.000000   \n",
       "2                   9.000000                       0.000000   \n",
       "3                   3.666667                       0.000000   \n",
       "4                 222.333333                       0.666667   \n",
       "\n",
       "   avg_no_of_attempted_voice_calls_placed  avg_total_mthly_recurring_charge  \\\n",
       "0                               52.333333                            22.500   \n",
       "1                              263.333333                            37.425   \n",
       "2                                9.000000                            16.990   \n",
       "3                                3.666667                            38.000   \n",
       "4                              222.333333                            71.980   \n",
       "\n",
       "   avg_unrounded_mins_of_outbound_wireless_to_wireless_voice_calls  \\\n",
       "0                                           0.000000                 \n",
       "1                                          24.216667                 \n",
       "2                                           0.000000                 \n",
       "3                                           0.256667                 \n",
       "4                                          10.816667                 \n",
       "\n",
       "   no_of_days_of_current_equipment  avg_no_of_completed_data_calls  \\\n",
       "0                              NaN                             0.0   \n",
       "1                            240.0                             0.0   \n",
       "2                           1504.0                             0.0   \n",
       "3                           1812.0                             0.0   \n",
       "4                            434.0                             0.0   \n",
       "\n",
       "   avg_mthly_rev_over_the_previous_three_months  \\\n",
       "0                                            30   \n",
       "1                                            40   \n",
       "2                                            17   \n",
       "3                                            38   \n",
       "4                                            55   \n",
       "\n",
       "   avg_mthly_mins_over_the_previous_six_months  avg_no_of_peak_data_calls  \\\n",
       "0                                        322.0                        0.0   \n",
       "1                                        477.0                        0.0   \n",
       "2                                         11.0                        0.0   \n",
       "3                                         50.0                        0.0   \n",
       "4                                        586.0                        0.0   \n",
       "\n",
       "               ...               current_handset_price  \\\n",
       "0              ...                           149.98999   \n",
       "1              ...                                 NaN   \n",
       "2              ...                            29.98999   \n",
       "3              ...                            29.98999   \n",
       "4              ...                           149.98999   \n",
       "\n",
       "   avg_no_of_inbound_wireless_to_wireless_voice_calls  \\\n",
       "0                                           0.000000    \n",
       "1                                           6.333333    \n",
       "2                                           0.000000    \n",
       "3                                           0.000000    \n",
       "4                                           0.666667    \n",
       "\n",
       "   avg_no_of_off_to_peak_voice_calls  avg_no_of_recieved_sms  \\\n",
       "0                          24.000000                     0.0   \n",
       "1                         157.000000                     0.0   \n",
       "2                           1.000000                     0.0   \n",
       "3                           3.666667                     0.0   \n",
       "4                          90.333333                     0.0   \n",
       "\n",
       "   avg_unrounded_mins_of_received_voice_calls  \\\n",
       "0                                   97.176667   \n",
       "1                                   55.280000   \n",
       "2                                    0.000000   \n",
       "3                                    0.413333   \n",
       "4                                  106.330000   \n",
       "\n",
       "   billing_adjusted_total_no_of_calls_over_the_life_of_the_cust  \\\n",
       "0                                               1602              \n",
       "1                                              14624              \n",
       "2                                               7888              \n",
       "3                                               1479              \n",
       "4                                               4452              \n",
       "\n",
       "   avg_no_of_blocked_data_calls  avg_no_of_unans_data_calls  \\\n",
       "0                           0.0                         0.0   \n",
       "1                           0.0                         0.0   \n",
       "2                           0.0                         0.0   \n",
       "3                           0.0                         0.0   \n",
       "4                           0.0                         0.0   \n",
       "\n",
       "   percntg_change_in_mthly_rev_vs_previous_three_month_avg  \\\n",
       "0                                           -18.9975         \n",
       "1                                            50.9875         \n",
       "2                                             0.0000         \n",
       "3                                             0.0000         \n",
       "4                                             0.0000         \n",
       "\n",
       "   avg_no_of_dropped_data_calls  \n",
       "0                           0.0  \n",
       "1                           0.0  \n",
       "2                           0.0  \n",
       "3                           0.0  \n",
       "4                           0.0  \n",
       "\n",
       "[5 rows x 66 columns]"
      ]
     },
     "execution_count": 244,
     "metadata": {},
     "output_type": "execute_result"
    }
   ],
   "source": [
    "numeric_df = data[numeric_cols]\n",
    "numeric_df.head()"
   ]
  },
  {
   "cell_type": "markdown",
   "metadata": {},
   "source": [
    "#### Histograms - Same as Notebook No - 3"
   ]
  },
  {
   "cell_type": "code",
   "execution_count": 245,
   "metadata": {
    "scrolled": true
   },
   "outputs": [],
   "source": [
    "# numeric_df.hist(bins=12, figsize=(30,30))\n",
    "# plt.savefig('Histograms of Numeric data.jpeg')"
   ]
  },
  {
   "cell_type": "code",
   "execution_count": 246,
   "metadata": {
    "scrolled": false
   },
   "outputs": [],
   "source": [
    "#numeric_df.describe().T"
   ]
  },
  {
   "cell_type": "markdown",
   "metadata": {},
   "source": [
    "### Discarding Negative Value Columns - to apply Log Transform"
   ]
  },
  {
   "cell_type": "code",
   "execution_count": 247,
   "metadata": {},
   "outputs": [],
   "source": [
    "positive_df = numeric_df.loc[:, numeric_df.min() >= 0]"
   ]
  },
  {
   "cell_type": "code",
   "execution_count": 248,
   "metadata": {},
   "outputs": [
    {
     "data": {
      "text/plain": [
       "60"
      ]
     },
     "execution_count": 248,
     "metadata": {},
     "output_type": "execute_result"
    }
   ],
   "source": [
    "len(positive_df.columns)"
   ]
  },
  {
   "cell_type": "code",
   "execution_count": 249,
   "metadata": {},
   "outputs": [],
   "source": [
    "positive_df = np.log(positive_df + 0.01)\n",
    "#positive_df.head()"
   ]
  },
  {
   "cell_type": "code",
   "execution_count": 250,
   "metadata": {
    "scrolled": true
   },
   "outputs": [],
   "source": [
    "# positive_df.hist(bins=12, figsize=(30,30))\n",
    "# plt.savefig('Poistive_df Histograms of Numeric data.jpeg')"
   ]
  },
  {
   "cell_type": "markdown",
   "metadata": {},
   "source": [
    "#### Creating a Dataset With Log of 61 Numeric Values for Building the Models"
   ]
  },
  {
   "cell_type": "code",
   "execution_count": 251,
   "metadata": {},
   "outputs": [],
   "source": [
    "for features in positive_df:\n",
    "    if features in data_before_transform:\n",
    "        data_before_transform[features] = positive_df[features]"
   ]
  },
  {
   "cell_type": "code",
   "execution_count": 252,
   "metadata": {},
   "outputs": [],
   "source": [
    "data_after_log = data_before_transform"
   ]
  },
  {
   "cell_type": "code",
   "execution_count": 253,
   "metadata": {},
   "outputs": [
    {
     "data": {
      "text/plain": [
       "(99999, 92)"
      ]
     },
     "execution_count": 253,
     "metadata": {},
     "output_type": "execute_result"
    }
   ],
   "source": [
    "data_after_log.shape"
   ]
  },
  {
   "cell_type": "markdown",
   "metadata": {},
   "source": [
    "### Applying YEO-JOHNSON Transformation"
   ]
  },
  {
   "cell_type": "code",
   "execution_count": 255,
   "metadata": {},
   "outputs": [],
   "source": [
    "# This One does not work on older versions of sklearn - Hence, did the transformation in a different machine.\n",
    "# Just followed the example given in https://scikit-learn.org/stable/modules/generated/sklearn.preprocessing.PowerTransformer.html\n",
    "\n",
    "#from sklearn.preprocessing import PowerTransformer"
   ]
  },
  {
   "cell_type": "markdown",
   "metadata": {},
   "source": [
    "#### Since the sklearn version didnot support PowerTransformer, Yeo_Johnson transformation was applied on another machine and data saved. Calling that data here"
   ]
  },
  {
   "cell_type": "code",
   "execution_count": 256,
   "metadata": {},
   "outputs": [],
   "source": [
    "# Using dataset transformed and saved on a different machine\n",
    "\n",
    "yeo_johnson_data_df = pd.read_csv(\"yeo_johnson_data_df.csv\")"
   ]
  },
  {
   "cell_type": "code",
   "execution_count": 325,
   "metadata": {},
   "outputs": [],
   "source": [
    "#yeo_johnson_data_df.drop('Unnamed: 0', axis=1, inplace=True)"
   ]
  },
  {
   "cell_type": "code",
   "execution_count": 326,
   "metadata": {},
   "outputs": [
    {
     "data": {
      "text/plain": [
       "(99999, 66)"
      ]
     },
     "execution_count": 326,
     "metadata": {},
     "output_type": "execute_result"
    }
   ],
   "source": [
    "yeo_johnson_data_df.shape"
   ]
  },
  {
   "cell_type": "code",
   "execution_count": 327,
   "metadata": {},
   "outputs": [
    {
     "data": {
      "text/html": [
       "<div>\n",
       "<style scoped>\n",
       "    .dataframe tbody tr th:only-of-type {\n",
       "        vertical-align: middle;\n",
       "    }\n",
       "\n",
       "    .dataframe tbody tr th {\n",
       "        vertical-align: top;\n",
       "    }\n",
       "\n",
       "    .dataframe thead th {\n",
       "        text-align: right;\n",
       "    }\n",
       "</style>\n",
       "<table border=\"1\" class=\"dataframe\">\n",
       "  <thead>\n",
       "    <tr style=\"text-align: right;\">\n",
       "      <th></th>\n",
       "      <th>avg_no_of_attempted_calls</th>\n",
       "      <th>avg_no_of_blocked_voice_calls</th>\n",
       "      <th>avg_no_of_attempted_voice_calls_placed</th>\n",
       "      <th>avg_total_mthly_recurring_charge</th>\n",
       "      <th>avg_unrounded_mins_of_outbound_wireless_to_wireless_voice_calls</th>\n",
       "      <th>no_of_days_of_current_equipment</th>\n",
       "      <th>avg_no_of_completed_data_calls</th>\n",
       "      <th>avg_mthly_rev_over_the_previous_three_months</th>\n",
       "      <th>avg_mthly_mins_over_the_previous_six_months</th>\n",
       "      <th>avg_no_of_peak_data_calls</th>\n",
       "      <th>...</th>\n",
       "      <th>current_handset_price</th>\n",
       "      <th>avg_no_of_inbound_wireless_to_wireless_voice_calls</th>\n",
       "      <th>avg_no_of_off_to_peak_voice_calls</th>\n",
       "      <th>avg_no_of_recieved_sms</th>\n",
       "      <th>avg_unrounded_mins_of_received_voice_calls</th>\n",
       "      <th>billing_adjusted_total_no_of_calls_over_the_life_of_the_cust</th>\n",
       "      <th>avg_no_of_blocked_data_calls</th>\n",
       "      <th>avg_no_of_unans_data_calls</th>\n",
       "      <th>percntg_change_in_mthly_rev_vs_previous_three_month_avg</th>\n",
       "      <th>avg_no_of_dropped_data_calls</th>\n",
       "    </tr>\n",
       "  </thead>\n",
       "  <tbody>\n",
       "    <tr>\n",
       "      <th>0</th>\n",
       "      <td>-1.066156</td>\n",
       "      <td>0.826798</td>\n",
       "      <td>-0.328820</td>\n",
       "      <td>-0.448723</td>\n",
       "      <td>-0.209734</td>\n",
       "      <td>-1.547910</td>\n",
       "      <td>-0.069862</td>\n",
       "      <td>-1.052027</td>\n",
       "      <td>-0.413039</td>\n",
       "      <td>-1.206385</td>\n",
       "      <td>...</td>\n",
       "      <td>-0.677761</td>\n",
       "      <td>-1.240796</td>\n",
       "      <td>-0.140061</td>\n",
       "      <td>-0.415984</td>\n",
       "      <td>-0.518636</td>\n",
       "      <td>-0.219844</td>\n",
       "      <td>-0.741817</td>\n",
       "      <td>-0.454277</td>\n",
       "      <td>-0.325282</td>\n",
       "      <td>-0.185105</td>\n",
       "    </tr>\n",
       "    <tr>\n",
       "      <th>1</th>\n",
       "      <td>0.243078</td>\n",
       "      <td>NaN</td>\n",
       "      <td>0.929355</td>\n",
       "      <td>-0.448723</td>\n",
       "      <td>1.854992</td>\n",
       "      <td>0.525417</td>\n",
       "      <td>-0.069862</td>\n",
       "      <td>-0.076471</td>\n",
       "      <td>0.960921</td>\n",
       "      <td>0.842557</td>\n",
       "      <td>...</td>\n",
       "      <td>1.070984</td>\n",
       "      <td>0.309002</td>\n",
       "      <td>-0.140061</td>\n",
       "      <td>0.954359</td>\n",
       "      <td>1.862811</td>\n",
       "      <td>-0.219844</td>\n",
       "      <td>-0.299461</td>\n",
       "      <td>-0.267534</td>\n",
       "      <td>0.937005</td>\n",
       "      <td>1.211198</td>\n",
       "    </tr>\n",
       "    <tr>\n",
       "      <th>2</th>\n",
       "      <td>-1.535475</td>\n",
       "      <td>-1.250579</td>\n",
       "      <td>-1.320873</td>\n",
       "      <td>-0.448723</td>\n",
       "      <td>1.747181</td>\n",
       "      <td>-1.547910</td>\n",
       "      <td>-0.069862</td>\n",
       "      <td>-1.052027</td>\n",
       "      <td>-1.273309</td>\n",
       "      <td>0.114208</td>\n",
       "      <td>...</td>\n",
       "      <td>-0.677761</td>\n",
       "      <td>0.199245</td>\n",
       "      <td>-0.140061</td>\n",
       "      <td>-1.274621</td>\n",
       "      <td>0.077599</td>\n",
       "      <td>-0.219844</td>\n",
       "      <td>-1.592736</td>\n",
       "      <td>-0.977491</td>\n",
       "      <td>-1.319491</td>\n",
       "      <td>-1.505747</td>\n",
       "    </tr>\n",
       "  </tbody>\n",
       "</table>\n",
       "<p>3 rows × 66 columns</p>\n",
       "</div>"
      ],
      "text/plain": [
       "   avg_no_of_attempted_calls  avg_no_of_blocked_voice_calls  \\\n",
       "0                  -1.066156                       0.826798   \n",
       "1                   0.243078                            NaN   \n",
       "2                  -1.535475                      -1.250579   \n",
       "\n",
       "   avg_no_of_attempted_voice_calls_placed  avg_total_mthly_recurring_charge  \\\n",
       "0                               -0.328820                         -0.448723   \n",
       "1                                0.929355                         -0.448723   \n",
       "2                               -1.320873                         -0.448723   \n",
       "\n",
       "   avg_unrounded_mins_of_outbound_wireless_to_wireless_voice_calls  \\\n",
       "0                                          -0.209734                 \n",
       "1                                           1.854992                 \n",
       "2                                           1.747181                 \n",
       "\n",
       "   no_of_days_of_current_equipment  avg_no_of_completed_data_calls  \\\n",
       "0                        -1.547910                       -0.069862   \n",
       "1                         0.525417                       -0.069862   \n",
       "2                        -1.547910                       -0.069862   \n",
       "\n",
       "   avg_mthly_rev_over_the_previous_three_months  \\\n",
       "0                                     -1.052027   \n",
       "1                                     -0.076471   \n",
       "2                                     -1.052027   \n",
       "\n",
       "   avg_mthly_mins_over_the_previous_six_months  avg_no_of_peak_data_calls  \\\n",
       "0                                    -0.413039                  -1.206385   \n",
       "1                                     0.960921                   0.842557   \n",
       "2                                    -1.273309                   0.114208   \n",
       "\n",
       "               ...               current_handset_price  \\\n",
       "0              ...                           -0.677761   \n",
       "1              ...                            1.070984   \n",
       "2              ...                           -0.677761   \n",
       "\n",
       "   avg_no_of_inbound_wireless_to_wireless_voice_calls  \\\n",
       "0                                          -1.240796    \n",
       "1                                           0.309002    \n",
       "2                                           0.199245    \n",
       "\n",
       "   avg_no_of_off_to_peak_voice_calls  avg_no_of_recieved_sms  \\\n",
       "0                          -0.140061               -0.415984   \n",
       "1                          -0.140061                0.954359   \n",
       "2                          -0.140061               -1.274621   \n",
       "\n",
       "   avg_unrounded_mins_of_received_voice_calls  \\\n",
       "0                                   -0.518636   \n",
       "1                                    1.862811   \n",
       "2                                    0.077599   \n",
       "\n",
       "   billing_adjusted_total_no_of_calls_over_the_life_of_the_cust  \\\n",
       "0                                          -0.219844              \n",
       "1                                          -0.219844              \n",
       "2                                          -0.219844              \n",
       "\n",
       "   avg_no_of_blocked_data_calls  avg_no_of_unans_data_calls  \\\n",
       "0                     -0.741817                   -0.454277   \n",
       "1                     -0.299461                   -0.267534   \n",
       "2                     -1.592736                   -0.977491   \n",
       "\n",
       "   percntg_change_in_mthly_rev_vs_previous_three_month_avg  \\\n",
       "0                                          -0.325282         \n",
       "1                                           0.937005         \n",
       "2                                          -1.319491         \n",
       "\n",
       "   avg_no_of_dropped_data_calls  \n",
       "0                     -0.185105  \n",
       "1                      1.211198  \n",
       "2                     -1.505747  \n",
       "\n",
       "[3 rows x 66 columns]"
      ]
     },
     "execution_count": 327,
     "metadata": {},
     "output_type": "execute_result"
    }
   ],
   "source": [
    "yeo_johnson_data_df.head(3)\n",
    "# Need to get the column names in place before re-building the entire dataset"
   ]
  },
  {
   "cell_type": "code",
   "execution_count": 263,
   "metadata": {},
   "outputs": [],
   "source": [
    "yeo_johnson_data_df.columns = list(numeric_df.columns)"
   ]
  },
  {
   "cell_type": "code",
   "execution_count": 264,
   "metadata": {},
   "outputs": [
    {
     "data": {
      "text/html": [
       "<div>\n",
       "<style scoped>\n",
       "    .dataframe tbody tr th:only-of-type {\n",
       "        vertical-align: middle;\n",
       "    }\n",
       "\n",
       "    .dataframe tbody tr th {\n",
       "        vertical-align: top;\n",
       "    }\n",
       "\n",
       "    .dataframe thead th {\n",
       "        text-align: right;\n",
       "    }\n",
       "</style>\n",
       "<table border=\"1\" class=\"dataframe\">\n",
       "  <thead>\n",
       "    <tr style=\"text-align: right;\">\n",
       "      <th></th>\n",
       "      <th>avg_no_of_attempted_calls</th>\n",
       "      <th>avg_no_of_blocked_voice_calls</th>\n",
       "      <th>avg_no_of_attempted_voice_calls_placed</th>\n",
       "      <th>avg_total_mthly_recurring_charge</th>\n",
       "      <th>avg_unrounded_mins_of_outbound_wireless_to_wireless_voice_calls</th>\n",
       "      <th>no_of_days_of_current_equipment</th>\n",
       "      <th>avg_no_of_completed_data_calls</th>\n",
       "      <th>avg_mthly_rev_over_the_previous_three_months</th>\n",
       "      <th>avg_mthly_mins_over_the_previous_six_months</th>\n",
       "      <th>avg_no_of_peak_data_calls</th>\n",
       "      <th>...</th>\n",
       "      <th>current_handset_price</th>\n",
       "      <th>avg_no_of_inbound_wireless_to_wireless_voice_calls</th>\n",
       "      <th>avg_no_of_off_to_peak_voice_calls</th>\n",
       "      <th>avg_no_of_recieved_sms</th>\n",
       "      <th>avg_unrounded_mins_of_received_voice_calls</th>\n",
       "      <th>billing_adjusted_total_no_of_calls_over_the_life_of_the_cust</th>\n",
       "      <th>avg_no_of_blocked_data_calls</th>\n",
       "      <th>avg_no_of_unans_data_calls</th>\n",
       "      <th>percntg_change_in_mthly_rev_vs_previous_three_month_avg</th>\n",
       "      <th>avg_no_of_dropped_data_calls</th>\n",
       "    </tr>\n",
       "  </thead>\n",
       "  <tbody>\n",
       "    <tr>\n",
       "      <th>0</th>\n",
       "      <td>-1.066156</td>\n",
       "      <td>0.826798</td>\n",
       "      <td>-0.328820</td>\n",
       "      <td>-0.448723</td>\n",
       "      <td>-0.209734</td>\n",
       "      <td>-1.547910</td>\n",
       "      <td>-0.069862</td>\n",
       "      <td>-1.052027</td>\n",
       "      <td>-0.413039</td>\n",
       "      <td>-1.206385</td>\n",
       "      <td>...</td>\n",
       "      <td>-0.677761</td>\n",
       "      <td>-1.240796</td>\n",
       "      <td>-0.140061</td>\n",
       "      <td>-0.415984</td>\n",
       "      <td>-0.518636</td>\n",
       "      <td>-0.219844</td>\n",
       "      <td>-0.741817</td>\n",
       "      <td>-0.454277</td>\n",
       "      <td>-0.325282</td>\n",
       "      <td>-0.185105</td>\n",
       "    </tr>\n",
       "    <tr>\n",
       "      <th>1</th>\n",
       "      <td>0.243078</td>\n",
       "      <td>NaN</td>\n",
       "      <td>0.929355</td>\n",
       "      <td>-0.448723</td>\n",
       "      <td>1.854992</td>\n",
       "      <td>0.525417</td>\n",
       "      <td>-0.069862</td>\n",
       "      <td>-0.076471</td>\n",
       "      <td>0.960921</td>\n",
       "      <td>0.842557</td>\n",
       "      <td>...</td>\n",
       "      <td>1.070984</td>\n",
       "      <td>0.309002</td>\n",
       "      <td>-0.140061</td>\n",
       "      <td>0.954359</td>\n",
       "      <td>1.862811</td>\n",
       "      <td>-0.219844</td>\n",
       "      <td>-0.299461</td>\n",
       "      <td>-0.267534</td>\n",
       "      <td>0.937005</td>\n",
       "      <td>1.211198</td>\n",
       "    </tr>\n",
       "    <tr>\n",
       "      <th>2</th>\n",
       "      <td>-1.535475</td>\n",
       "      <td>-1.250579</td>\n",
       "      <td>-1.320873</td>\n",
       "      <td>-0.448723</td>\n",
       "      <td>1.747181</td>\n",
       "      <td>-1.547910</td>\n",
       "      <td>-0.069862</td>\n",
       "      <td>-1.052027</td>\n",
       "      <td>-1.273309</td>\n",
       "      <td>0.114208</td>\n",
       "      <td>...</td>\n",
       "      <td>-0.677761</td>\n",
       "      <td>0.199245</td>\n",
       "      <td>-0.140061</td>\n",
       "      <td>-1.274621</td>\n",
       "      <td>0.077599</td>\n",
       "      <td>-0.219844</td>\n",
       "      <td>-1.592736</td>\n",
       "      <td>-0.977491</td>\n",
       "      <td>-1.319491</td>\n",
       "      <td>-1.505747</td>\n",
       "    </tr>\n",
       "  </tbody>\n",
       "</table>\n",
       "<p>3 rows × 66 columns</p>\n",
       "</div>"
      ],
      "text/plain": [
       "   avg_no_of_attempted_calls  avg_no_of_blocked_voice_calls  \\\n",
       "0                  -1.066156                       0.826798   \n",
       "1                   0.243078                            NaN   \n",
       "2                  -1.535475                      -1.250579   \n",
       "\n",
       "   avg_no_of_attempted_voice_calls_placed  avg_total_mthly_recurring_charge  \\\n",
       "0                               -0.328820                         -0.448723   \n",
       "1                                0.929355                         -0.448723   \n",
       "2                               -1.320873                         -0.448723   \n",
       "\n",
       "   avg_unrounded_mins_of_outbound_wireless_to_wireless_voice_calls  \\\n",
       "0                                          -0.209734                 \n",
       "1                                           1.854992                 \n",
       "2                                           1.747181                 \n",
       "\n",
       "   no_of_days_of_current_equipment  avg_no_of_completed_data_calls  \\\n",
       "0                        -1.547910                       -0.069862   \n",
       "1                         0.525417                       -0.069862   \n",
       "2                        -1.547910                       -0.069862   \n",
       "\n",
       "   avg_mthly_rev_over_the_previous_three_months  \\\n",
       "0                                     -1.052027   \n",
       "1                                     -0.076471   \n",
       "2                                     -1.052027   \n",
       "\n",
       "   avg_mthly_mins_over_the_previous_six_months  avg_no_of_peak_data_calls  \\\n",
       "0                                    -0.413039                  -1.206385   \n",
       "1                                     0.960921                   0.842557   \n",
       "2                                    -1.273309                   0.114208   \n",
       "\n",
       "               ...               current_handset_price  \\\n",
       "0              ...                           -0.677761   \n",
       "1              ...                            1.070984   \n",
       "2              ...                           -0.677761   \n",
       "\n",
       "   avg_no_of_inbound_wireless_to_wireless_voice_calls  \\\n",
       "0                                          -1.240796    \n",
       "1                                           0.309002    \n",
       "2                                           0.199245    \n",
       "\n",
       "   avg_no_of_off_to_peak_voice_calls  avg_no_of_recieved_sms  \\\n",
       "0                          -0.140061               -0.415984   \n",
       "1                          -0.140061                0.954359   \n",
       "2                          -0.140061               -1.274621   \n",
       "\n",
       "   avg_unrounded_mins_of_received_voice_calls  \\\n",
       "0                                   -0.518636   \n",
       "1                                    1.862811   \n",
       "2                                    0.077599   \n",
       "\n",
       "   billing_adjusted_total_no_of_calls_over_the_life_of_the_cust  \\\n",
       "0                                          -0.219844              \n",
       "1                                          -0.219844              \n",
       "2                                          -0.219844              \n",
       "\n",
       "   avg_no_of_blocked_data_calls  avg_no_of_unans_data_calls  \\\n",
       "0                     -0.741817                   -0.454277   \n",
       "1                     -0.299461                   -0.267534   \n",
       "2                     -1.592736                   -0.977491   \n",
       "\n",
       "   percntg_change_in_mthly_rev_vs_previous_three_month_avg  \\\n",
       "0                                          -0.325282         \n",
       "1                                           0.937005         \n",
       "2                                          -1.319491         \n",
       "\n",
       "   avg_no_of_dropped_data_calls  \n",
       "0                     -0.185105  \n",
       "1                      1.211198  \n",
       "2                     -1.505747  \n",
       "\n",
       "[3 rows x 66 columns]"
      ]
     },
     "execution_count": 264,
     "metadata": {},
     "output_type": "execute_result"
    }
   ],
   "source": [
    "yeo_johnson_data_df.head(3)"
   ]
  },
  {
   "cell_type": "code",
   "execution_count": 265,
   "metadata": {},
   "outputs": [],
   "source": [
    "for features in yeo_johnson_data_df:\n",
    "    if features in data_before_transform:\n",
    "        data_before_transform[features] = yeo_johnson_data_df[features]"
   ]
  },
  {
   "cell_type": "code",
   "execution_count": 266,
   "metadata": {},
   "outputs": [],
   "source": [
    "data_after_yeo_j = data_before_transform"
   ]
  },
  {
   "cell_type": "code",
   "execution_count": 267,
   "metadata": {},
   "outputs": [],
   "source": [
    "#data_after_yeo_j.to_csv(\"data_after_yeo_j.csv\")"
   ]
  },
  {
   "cell_type": "markdown",
   "metadata": {},
   "source": [
    "## Now building the Pipeline for pre-processing and fitting of models"
   ]
  },
  {
   "cell_type": "code",
   "execution_count": 268,
   "metadata": {},
   "outputs": [],
   "source": [
    "#  USING THE LOG TRANSFORMED DATA \n",
    "\n",
    "df = data_after_yeo_j                       #[0:30000]"
   ]
  },
  {
   "cell_type": "code",
   "execution_count": 269,
   "metadata": {},
   "outputs": [
    {
     "data": {
      "text/plain": [
       "(99999, 92)"
      ]
     },
     "execution_count": 269,
     "metadata": {},
     "output_type": "execute_result"
    }
   ],
   "source": [
    "df.shape"
   ]
  },
  {
   "cell_type": "code",
   "execution_count": 270,
   "metadata": {},
   "outputs": [
    {
     "data": {
      "text/plain": [
       "91"
      ]
     },
     "execution_count": 270,
     "metadata": {},
     "output_type": "execute_result"
    }
   ],
   "source": [
    "x_cols = [c for c in df if c not in [\"churn\"]]\n",
    "len(x_cols)"
   ]
  },
  {
   "cell_type": "code",
   "execution_count": 271,
   "metadata": {},
   "outputs": [],
   "source": [
    "X = df[x_cols]"
   ]
  },
  {
   "cell_type": "code",
   "execution_count": 272,
   "metadata": {},
   "outputs": [
    {
     "data": {
      "text/plain": [
       "(99999, 91)"
      ]
     },
     "execution_count": 272,
     "metadata": {},
     "output_type": "execute_result"
    }
   ],
   "source": [
    "X.shape"
   ]
  },
  {
   "cell_type": "code",
   "execution_count": 273,
   "metadata": {},
   "outputs": [],
   "source": [
    "y = df[\"churn\"]"
   ]
  },
  {
   "cell_type": "markdown",
   "metadata": {},
   "source": [
    "### Ensuring correct data types"
   ]
  },
  {
   "cell_type": "code",
   "execution_count": 274,
   "metadata": {},
   "outputs": [],
   "source": [
    "for f in binary_features:\n",
    "    X[f] = X[f].astype(\"bool\")\n"
   ]
  },
  {
   "cell_type": "code",
   "execution_count": 275,
   "metadata": {},
   "outputs": [],
   "source": [
    "\n",
    "for f in categorical_features:\n",
    "    X[f] = X[f].astype(\"category\")"
   ]
  },
  {
   "cell_type": "code",
   "execution_count": 276,
   "metadata": {},
   "outputs": [],
   "source": [
    "#Imputer(strategy=\"most_frequent\")"
   ]
  },
  {
   "cell_type": "code",
   "execution_count": 277,
   "metadata": {},
   "outputs": [],
   "source": [
    "for f in numeric_features:\n",
    "    X[f] = X[f].astype(\"float64\")"
   ]
  },
  {
   "cell_type": "markdown",
   "metadata": {},
   "source": [
    "### SPLITTING : TRAIN - TEST DATA"
   ]
  },
  {
   "cell_type": "code",
   "execution_count": 278,
   "metadata": {},
   "outputs": [],
   "source": [
    "# Partition data set into training/test split (4 to 1 ratio)\n",
    "X_train, X_test, y_train, y_test = train_test_split(X, y, test_size=0.20, random_state=40)"
   ]
  },
  {
   "cell_type": "code",
   "execution_count": 279,
   "metadata": {},
   "outputs": [
    {
     "data": {
      "text/plain": [
       "(79999, 91)"
      ]
     },
     "execution_count": 279,
     "metadata": {},
     "output_type": "execute_result"
    }
   ],
   "source": [
    "X_train.shape"
   ]
  },
  {
   "cell_type": "code",
   "execution_count": 280,
   "metadata": {},
   "outputs": [
    {
     "data": {
      "text/plain": [
       "(20000, 91)"
      ]
     },
     "execution_count": 280,
     "metadata": {},
     "output_type": "execute_result"
    }
   ],
   "source": [
    "X_test.shape"
   ]
  },
  {
   "cell_type": "code",
   "execution_count": 281,
   "metadata": {},
   "outputs": [
    {
     "data": {
      "text/plain": [
       "(99999, 91)"
      ]
     },
     "execution_count": 281,
     "metadata": {},
     "output_type": "execute_result"
    }
   ],
   "source": [
    "X.shape"
   ]
  },
  {
   "cell_type": "code",
   "execution_count": 282,
   "metadata": {
    "scrolled": true
   },
   "outputs": [
    {
     "data": {
      "text/plain": [
       "84"
      ]
     },
     "execution_count": 282,
     "metadata": {},
     "output_type": "execute_result"
    }
   ],
   "source": [
    "total = 0\n",
    "for i in categorical_features:\n",
    "    total += X[i].nunique()\n",
    "    \n",
    "total"
   ]
  },
  {
   "cell_type": "code",
   "execution_count": 283,
   "metadata": {},
   "outputs": [],
   "source": [
    "class TypeSelector(BaseEstimator, TransformerMixin):\n",
    "    def __init__(self, dtype):\n",
    "        self.dtype = dtype\n",
    "\n",
    "    def fit(self, X, y=None):\n",
    "        return self\n",
    "\n",
    "    def transform(self, X):\n",
    "        assert isinstance(X, pd.DataFrame)\n",
    "        return X.select_dtypes(include=[self.dtype])"
   ]
  },
  {
   "cell_type": "code",
   "execution_count": 284,
   "metadata": {
    "scrolled": true
   },
   "outputs": [
    {
     "data": {
      "text/html": [
       "<div>\n",
       "<style scoped>\n",
       "    .dataframe tbody tr th:only-of-type {\n",
       "        vertical-align: middle;\n",
       "    }\n",
       "\n",
       "    .dataframe tbody tr th {\n",
       "        vertical-align: top;\n",
       "    }\n",
       "\n",
       "    .dataframe thead th {\n",
       "        text-align: right;\n",
       "    }\n",
       "</style>\n",
       "<table border=\"1\" class=\"dataframe\">\n",
       "  <thead>\n",
       "    <tr style=\"text-align: right;\">\n",
       "      <th></th>\n",
       "      <th>avg_mthly_rev</th>\n",
       "      <th>avg_no_of_mthly_mins</th>\n",
       "      <th>avg_total_mthly_recurring_charge</th>\n",
       "      <th>avg_no_of_directory_assisted_calls</th>\n",
       "      <th>avg_overage_mins</th>\n",
       "      <th>avg_overage_rev</th>\n",
       "      <th>avg_rev_of_voice_overage</th>\n",
       "      <th>avg_rev_of_data_overage</th>\n",
       "      <th>avg_no_of_roaming_calls</th>\n",
       "      <th>percntg_change_in_mthly_mins_vs_previous_three_month_avg</th>\n",
       "      <th>...</th>\n",
       "      <th>avg_mthly_mins_over_the_previous_six_months</th>\n",
       "      <th>avg_mthly_no_of_calls_over_the_previous_six_months</th>\n",
       "      <th>avg_mthly_rev_over_the_previous_six_months</th>\n",
       "      <th>current_handset_price</th>\n",
       "      <th>no_of_handsets_issued</th>\n",
       "      <th>no_of_models_issued</th>\n",
       "      <th>length_of_residence</th>\n",
       "      <th>no_of_adults_in_house</th>\n",
       "      <th>estimated_income</th>\n",
       "      <th>no_of_days_of_current_equipment</th>\n",
       "    </tr>\n",
       "  </thead>\n",
       "  <tbody>\n",
       "    <tr>\n",
       "      <th>46627</th>\n",
       "      <td>0.285321</td>\n",
       "      <td>-0.357941</td>\n",
       "      <td>-0.448723</td>\n",
       "      <td>0.310199</td>\n",
       "      <td>-0.046802</td>\n",
       "      <td>-0.068766</td>\n",
       "      <td>-0.220342</td>\n",
       "      <td>-0.126085</td>\n",
       "      <td>1.047673</td>\n",
       "      <td>0.488635</td>\n",
       "      <td>...</td>\n",
       "      <td>0.016209</td>\n",
       "      <td>-0.269299</td>\n",
       "      <td>0.126231</td>\n",
       "      <td>0.442942</td>\n",
       "      <td>1.0</td>\n",
       "      <td>1.0</td>\n",
       "      <td>15.0</td>\n",
       "      <td>5.0</td>\n",
       "      <td>5.0</td>\n",
       "      <td>0.397965</td>\n",
       "    </tr>\n",
       "    <tr>\n",
       "      <th>87075</th>\n",
       "      <td>-0.235895</td>\n",
       "      <td>-1.017613</td>\n",
       "      <td>1.956274</td>\n",
       "      <td>1.408359</td>\n",
       "      <td>-0.046802</td>\n",
       "      <td>1.420679</td>\n",
       "      <td>-0.220342</td>\n",
       "      <td>-0.126085</td>\n",
       "      <td>2.300193</td>\n",
       "      <td>1.394411</td>\n",
       "      <td>...</td>\n",
       "      <td>1.872175</td>\n",
       "      <td>-0.269299</td>\n",
       "      <td>1.727524</td>\n",
       "      <td>1.312857</td>\n",
       "      <td>1.0</td>\n",
       "      <td>1.0</td>\n",
       "      <td>NaN</td>\n",
       "      <td>NaN</td>\n",
       "      <td>NaN</td>\n",
       "      <td>1.796042</td>\n",
       "    </tr>\n",
       "    <tr>\n",
       "      <th>44847</th>\n",
       "      <td>0.711005</td>\n",
       "      <td>0.144838</td>\n",
       "      <td>-0.448723</td>\n",
       "      <td>0.970456</td>\n",
       "      <td>-0.046802</td>\n",
       "      <td>0.351975</td>\n",
       "      <td>-0.220342</td>\n",
       "      <td>-0.126085</td>\n",
       "      <td>-0.895122</td>\n",
       "      <td>0.992270</td>\n",
       "      <td>...</td>\n",
       "      <td>0.623581</td>\n",
       "      <td>-0.269299</td>\n",
       "      <td>0.251460</td>\n",
       "      <td>0.104107</td>\n",
       "      <td>1.0</td>\n",
       "      <td>1.0</td>\n",
       "      <td>6.0</td>\n",
       "      <td>3.0</td>\n",
       "      <td>2.0</td>\n",
       "      <td>1.047752</td>\n",
       "    </tr>\n",
       "  </tbody>\n",
       "</table>\n",
       "<p>3 rows × 73 columns</p>\n",
       "</div>"
      ],
      "text/plain": [
       "       avg_mthly_rev  avg_no_of_mthly_mins  avg_total_mthly_recurring_charge  \\\n",
       "46627       0.285321             -0.357941                         -0.448723   \n",
       "87075      -0.235895             -1.017613                          1.956274   \n",
       "44847       0.711005              0.144838                         -0.448723   \n",
       "\n",
       "       avg_no_of_directory_assisted_calls  avg_overage_mins  avg_overage_rev  \\\n",
       "46627                            0.310199         -0.046802        -0.068766   \n",
       "87075                            1.408359         -0.046802         1.420679   \n",
       "44847                            0.970456         -0.046802         0.351975   \n",
       "\n",
       "       avg_rev_of_voice_overage  avg_rev_of_data_overage  \\\n",
       "46627                 -0.220342                -0.126085   \n",
       "87075                 -0.220342                -0.126085   \n",
       "44847                 -0.220342                -0.126085   \n",
       "\n",
       "       avg_no_of_roaming_calls  \\\n",
       "46627                 1.047673   \n",
       "87075                 2.300193   \n",
       "44847                -0.895122   \n",
       "\n",
       "       percntg_change_in_mthly_mins_vs_previous_three_month_avg  \\\n",
       "46627                                           0.488635          \n",
       "87075                                           1.394411          \n",
       "44847                                           0.992270          \n",
       "\n",
       "                    ...                 \\\n",
       "46627               ...                  \n",
       "87075               ...                  \n",
       "44847               ...                  \n",
       "\n",
       "       avg_mthly_mins_over_the_previous_six_months  \\\n",
       "46627                                     0.016209   \n",
       "87075                                     1.872175   \n",
       "44847                                     0.623581   \n",
       "\n",
       "       avg_mthly_no_of_calls_over_the_previous_six_months  \\\n",
       "46627                                          -0.269299    \n",
       "87075                                          -0.269299    \n",
       "44847                                          -0.269299    \n",
       "\n",
       "       avg_mthly_rev_over_the_previous_six_months  current_handset_price  \\\n",
       "46627                                    0.126231               0.442942   \n",
       "87075                                    1.727524               1.312857   \n",
       "44847                                    0.251460               0.104107   \n",
       "\n",
       "       no_of_handsets_issued  no_of_models_issued  length_of_residence  \\\n",
       "46627                    1.0                  1.0                 15.0   \n",
       "87075                    1.0                  1.0                  NaN   \n",
       "44847                    1.0                  1.0                  6.0   \n",
       "\n",
       "       no_of_adults_in_house  estimated_income  \\\n",
       "46627                    5.0               5.0   \n",
       "87075                    NaN               NaN   \n",
       "44847                    3.0               2.0   \n",
       "\n",
       "       no_of_days_of_current_equipment  \n",
       "46627                         0.397965  \n",
       "87075                         1.796042  \n",
       "44847                         1.047752  \n",
       "\n",
       "[3 rows x 73 columns]"
      ]
     },
     "execution_count": 284,
     "metadata": {},
     "output_type": "execute_result"
    }
   ],
   "source": [
    "ts = TypeSelector(np.number)\n",
    "ts.fit_transform(X_train).head(3)"
   ]
  },
  {
   "cell_type": "code",
   "execution_count": 285,
   "metadata": {},
   "outputs": [],
   "source": [
    "class ColumnSelector(BaseEstimator, TransformerMixin):\n",
    "    def __init__(self, columns):\n",
    "        #print(columns)\n",
    "        self.columns = columns\n",
    "\n",
    "    def fit(self, X, y=None):\n",
    "        return self\n",
    "\n",
    "    def transform(self, X):\n",
    "        assert isinstance(X, pd.DataFrame)\n",
    "\n",
    "        try:\n",
    "            return X[self.columns]\n",
    "        except KeyError:\n",
    "            cols_error = list(set(self.columns) - set(X.columns))\n",
    "            raise KeyError(\"The DataFrame does not include the columns: %s\" % cols_error)\n",
    "            \n",
    "# cs = ColumnSelector(columns=numeric_features)  #  [\"state\", \"account length\", \"area code\"])\n",
    "# cs.fit_transform(df).head()"
   ]
  },
  {
   "cell_type": "code",
   "execution_count": 286,
   "metadata": {},
   "outputs": [],
   "source": [
    "class CustomImputer(BaseEstimator, TransformerMixin):\n",
    "    def __init__(self, strategy='mode',filler='NA'):\n",
    "        self.strategy = strategy\n",
    "        self.fill = filler\n",
    "\n",
    "    def fit(self, X, y=None):\n",
    "        if self.strategy == 'mode':\n",
    "            self.fill = X.mode().iloc[0]\n",
    "        elif self.strategy == 'fill':\n",
    "            if type(self.fill) is list and type(X) is pd.DataFrame:\n",
    "                self.fill = dict([(cname, v) for cname,v in zip(X.columns, self.fill)])\n",
    "        return self\n",
    "\n",
    "    def transform(self, X, y=None):\n",
    "        return X.fillna(self.fill)"
   ]
  },
  {
   "cell_type": "code",
   "execution_count": 287,
   "metadata": {},
   "outputs": [],
   "source": [
    "# Made by Ravi\n",
    "\n",
    "class CustomColumn(BaseEstimator, TransformerMixin):\n",
    "    def __init__(self, columns):\n",
    "        self.columns= columns\n",
    "        \n",
    "    def fit(self,X, y=None):\n",
    "        return self\n",
    "    \n",
    "    def transform(self,X,y=None):\n",
    "        Y = pd.DataFrame()\n",
    "        for i in self.columns:\n",
    "            Y[i] = X[i]\n",
    "        return Y"
   ]
  },
  {
   "cell_type": "code",
   "execution_count": 289,
   "metadata": {},
   "outputs": [],
   "source": [
    "class create_dummies(BaseEstimator, TransformerMixin): \n",
    "    def __init__(self):\n",
    "        print(\"transforming the data\")\n",
    "    \n",
    "    def fit(self, X, y =None):\n",
    "        return self\n",
    "\n",
    "    \n",
    "    def transform(self, X,y =None):\n",
    "        assert isinstance(X,  pd.DataFrame)\n",
    "        for i in X.columns:\n",
    "            x = pd.get_dummies(X[i],drop_first=True,prefix_sep='_')\n",
    "            X.drop(i, axis=1, inplace= True)\n",
    "            X= pd.concat([X,x], axis=1)\n",
    "            #print(X.shape)\n",
    "        return X"
   ]
  },
  {
   "cell_type": "code",
   "execution_count": 290,
   "metadata": {},
   "outputs": [
    {
     "name": "stdout",
     "output_type": "stream",
     "text": [
      "transforming the data\n"
     ]
    }
   ],
   "source": [
    "preprocess_pipeline = make_pipeline(\n",
    "    ColumnSelector(columns=x_cols),\n",
    "    FeatureUnion(transformer_list=[\n",
    "        (\"numeric_features\", make_pipeline(\n",
    "            TypeSelector(np.number),\n",
    "            CustomColumn(columns=numeric_features),\n",
    "            Imputer(strategy=\"median\"),\n",
    "            StandardScaler()\n",
    "        )),\n",
    "        (\"categorical_features\", make_pipeline(\n",
    "            TypeSelector(\"category\"),\n",
    "            CustomImputer(strategy=\"mode\"),\n",
    "            create_dummies()\n",
    "            \n",
    "        )),\n",
    "        (\"numeric_but_cat_for_imputation\", make_pipeline(\n",
    "            TypeSelector(np.number),\n",
    "            CustomColumn(columns= numeric_but_cat_for_imputation),\n",
    "            Imputer(strategy=\"most_frequent\")\n",
    "            #StandardScaler()\n",
    "        )),\n",
    "        (\"binary_features\", make_pipeline(\n",
    "            TypeSelector(\"bool\"),\n",
    "            Imputer(strategy=\"most_frequent\")\n",
    "        ))\n",
    "        ])\n",
    ")"
   ]
  },
  {
   "cell_type": "code",
   "execution_count": 291,
   "metadata": {},
   "outputs": [
    {
     "data": {
      "text/plain": [
       "(79999, 91)"
      ]
     },
     "execution_count": 291,
     "metadata": {},
     "output_type": "execute_result"
    }
   ],
   "source": [
    "X_train.shape"
   ]
  },
  {
   "cell_type": "code",
   "execution_count": 292,
   "metadata": {},
   "outputs": [
    {
     "data": {
      "text/plain": [
       "array([[-0.74,  0.83,  0.03, ...,  1.  ,  1.  ,  0.  ],\n",
       "       [ 2.43, -0.21,  1.52, ...,  1.  ,  1.  ,  1.  ],\n",
       "       [-0.52,  0.83,  0.69, ...,  0.  ,  0.  ,  0.  ],\n",
       "       ...,\n",
       "       [-0.23,  0.83,  0.41, ...,  0.  ,  0.  ,  1.  ],\n",
       "       [-0.29,  0.56, -0.57, ...,  0.  ,  0.  ,  0.  ],\n",
       "       [ 0.14, -1.26, -0.43, ...,  0.  ,  0.  ,  0.  ]])"
      ]
     },
     "execution_count": 292,
     "metadata": {},
     "output_type": "execute_result"
    }
   ],
   "source": [
    "x_train_transformed = preprocess_pipeline.fit_transform(X_train)\n",
    "x_train_transformed"
   ]
  },
  {
   "cell_type": "code",
   "execution_count": 293,
   "metadata": {},
   "outputs": [
    {
     "data": {
      "text/plain": [
       "(79999, 145)"
      ]
     },
     "execution_count": 293,
     "metadata": {},
     "output_type": "execute_result"
    }
   ],
   "source": [
    "x_train_transformed.shape"
   ]
  },
  {
   "cell_type": "code",
   "execution_count": 294,
   "metadata": {},
   "outputs": [
    {
     "data": {
      "text/plain": [
       "array([[ 1.02,  0.12,  1.54, ...,  1.  ,  0.  ,  0.  ],\n",
       "       [-0.12, -1.26, -1.2 , ...,  0.  ,  0.  ,  0.  ],\n",
       "       [ 0.35,  0.56,  1.24, ...,  0.  ,  0.  ,  0.  ],\n",
       "       ...,\n",
       "       [-0.71,  0.83, -1.09, ...,  0.  ,  0.  ,  0.  ],\n",
       "       [ 0.12,  0.56,  0.65, ...,  1.  ,  1.  ,  0.  ],\n",
       "       [-0.46,  0.83, -1.89, ...,  0.  ,  0.  ,  0.  ]])"
      ]
     },
     "execution_count": 294,
     "metadata": {},
     "output_type": "execute_result"
    }
   ],
   "source": [
    "x_test_transformed = preprocess_pipeline.transform(X_test)\n",
    "x_test_transformed"
   ]
  },
  {
   "cell_type": "code",
   "execution_count": 295,
   "metadata": {},
   "outputs": [
    {
     "data": {
      "text/plain": [
       "(20000, 145)"
      ]
     },
     "execution_count": 295,
     "metadata": {},
     "output_type": "execute_result"
    }
   ],
   "source": [
    "x_test_transformed.shape"
   ]
  },
  {
   "cell_type": "markdown",
   "metadata": {},
   "source": [
    "### Preprocessing Pipeline + Classifier + Grid Search"
   ]
  },
  {
   "cell_type": "code",
   "execution_count": 296,
   "metadata": {},
   "outputs": [],
   "source": [
    "\n",
    "def plot_roc(y_test, y_score):\n",
    "    fpr, tpr, thresholds = roc_curve(y_test, y_score)\n",
    "    roc_auc = roc_auc_score(y_test, y_score)\n",
    "\n",
    "    # Plot ROC curve\n",
    "    plt.figure(figsize=(16, 12))\n",
    "    plt.plot(fpr, tpr, label='ROC curve (area = %0.3f)' % roc_auc)\n",
    "    plt.plot([0, 1], [0, 1], 'k--')\n",
    "    plt.xlim([0.0, 1.0])\n",
    "    plt.ylim([0.0, 1.0])\n",
    "    plt.xlabel('False Positive Rate (1 - Specificity)', size=16)\n",
    "    plt.ylabel('True Positive Rate (Sensitivity)', size=16)\n",
    "    plt.title('ROC Curve', size=20)\n",
    "    plt.legend(fontsize=14);"
   ]
  },
  {
   "cell_type": "code",
   "execution_count": 297,
   "metadata": {},
   "outputs": [],
   "source": [
    "from sklearn import svm, datasets\n",
    "from sklearn.model_selection import train_test_split\n",
    "from sklearn.metrics import confusion_matrix\n",
    "from sklearn.utils.multiclass import unique_labels\n",
    "class_names = data.churn"
   ]
  },
  {
   "cell_type": "code",
   "execution_count": 298,
   "metadata": {},
   "outputs": [],
   "source": [
    "def plot_confusion_matrix(y_true, y_pred, classes,\n",
    "                          normalize=False,\n",
    "                          title=None,\n",
    "                          cmap=plt.cm.Blues):\n",
    "    \"\"\"\n",
    "    This function prints and plots the confusion matrix.\n",
    "    Normalization can be applied by setting `normalize=True`.\n",
    "    \"\"\"\n",
    "    if not title:\n",
    "        if normalize:\n",
    "            title = 'Normalized confusion matrix'\n",
    "        else:\n",
    "            title = 'Confusion matrix, without normalization'\n",
    "\n",
    "    # Compute confusion matrix\n",
    "    cm = confusion_matrix(y_true, y_pred)\n",
    "    # Only use the labels that appear in the data\n",
    "    classes = classes[unique_labels(y_true, y_pred)]\n",
    "    if normalize:\n",
    "        cm = cm.astype('float') / cm.sum(axis=1)[:, np.newaxis]\n",
    "        print(\"Normalized confusion matrix\")\n",
    "    else:\n",
    "        print('Confusion matrix, without normalization')\n",
    "\n",
    "    print(cm)\n",
    "\n",
    "    fig, ax = plt.subplots()\n",
    "    im = ax.imshow(cm, interpolation='nearest', cmap=cmap)\n",
    "    ax.figure.colorbar(im, ax=ax)\n",
    "    # We want to show all ticks...\n",
    "    ax.set(xticks=np.arange(cm.shape[1]),\n",
    "           yticks=np.arange(cm.shape[0]),\n",
    "           # ... and label them with the respective list entries\n",
    "           xticklabels=classes, yticklabels=classes,\n",
    "           title=title,\n",
    "           ylabel='True label',\n",
    "           xlabel='Predicted label')\n",
    "\n",
    "    # Rotate the tick labels and set their alignment.\n",
    "    plt.setp(ax.get_xticklabels(), rotation=45, ha=\"right\",\n",
    "             rotation_mode=\"anchor\")\n",
    "\n",
    "    # Loop over data dimensions and create text annotations.\n",
    "    fmt = '.2f' if normalize else 'd'\n",
    "    thresh = cm.max() / 2.\n",
    "    for i in range(cm.shape[0]):\n",
    "        for j in range(cm.shape[1]):\n",
    "            ax.text(j, i, format(cm[i, j], fmt),\n",
    "                    ha=\"center\", va=\"center\",\n",
    "                    color=\"white\" if cm[i, j] > thresh else \"black\")\n",
    "    fig.tight_layout()\n",
    "    return ax\n",
    "\n",
    "\n",
    "np.set_printoptions(precision=2)"
   ]
  },
  {
   "cell_type": "code",
   "execution_count": null,
   "metadata": {},
   "outputs": [],
   "source": []
  },
  {
   "cell_type": "markdown",
   "metadata": {},
   "source": [
    "### RANDOM FOREST"
   ]
  },
  {
   "cell_type": "code",
   "execution_count": 172,
   "metadata": {},
   "outputs": [],
   "source": [
    "classifier_pipeline = make_pipeline(\n",
    "    preprocess_pipeline,\n",
    "    RandomForestClassifier(bootstrap=True,n_jobs=-1)\n",
    ")"
   ]
  },
  {
   "cell_type": "code",
   "execution_count": 299,
   "metadata": {
    "scrolled": false
   },
   "outputs": [
    {
     "name": "stdout",
     "output_type": "stream",
     "text": [
      "transforming the data\n",
      "transforming the data\n",
      "transforming the data\n",
      "transforming the data\n",
      "transforming the data\n",
      "transforming the data\n",
      "transforming the data\n",
      "transforming the data\n",
      "transforming the data\n",
      "transforming the data\n",
      "transforming the data\n",
      "transforming the data\n",
      "transforming the data\n",
      "transforming the data\n",
      "transforming the data\n",
      "transforming the data\n",
      "transforming the data\n",
      "transforming the data\n",
      "transforming the data\n",
      "transforming the data\n",
      "transforming the data\n",
      "transforming the data\n",
      "transforming the data\n",
      "transforming the data\n",
      "transforming the data\n",
      "transforming the data\n"
     ]
    },
    {
     "data": {
      "text/plain": [
       "GridSearchCV(cv=2, error_score='raise',\n",
       "       estimator=Pipeline(memory=None,\n",
       "     steps=[('pipeline', Pipeline(memory=None,\n",
       "     steps=[('columnselector', ColumnSelector(columns=['avg_mthly_rev', 'avg_no_of_mthly_mins', 'avg_total_mthly_recurring_charge', 'avg_no_of_directory_assisted_calls', 'avg_overage_mins', 'avg_overage_rev', 'avg_rev_of_voice_overage', 'avg_rev_of_data_over..._jobs=-1,\n",
       "            oob_score=False, random_state=None, verbose=0,\n",
       "            warm_start=False))]),\n",
       "       fit_params=None, iid=True, n_jobs=1,\n",
       "       param_grid={'randomforestclassifier__n_estimators': [3000, 5000, 7000], 'randomforestclassifier__max_features': ['sqrt', 'log2'], 'randomforestclassifier__criterion': ['gini', 'entropy']},\n",
       "       pre_dispatch='2*n_jobs', refit=True, return_train_score='warn',\n",
       "       scoring=None, verbose=0)"
      ]
     },
     "execution_count": 299,
     "metadata": {},
     "output_type": "execute_result"
    }
   ],
   "source": [
    "param_grid = {\n",
    "            \"randomforestclassifier__n_estimators\": [3000, 5000, 7000],\n",
    "            'randomforestclassifier__max_features': ['sqrt', 'log2'],\n",
    "            'randomforestclassifier__criterion': ['gini', 'entropy']\n",
    "            }\n",
    "\n",
    "classifier_model = GridSearchCV(classifier_pipeline,param_grid, cv=2)\n",
    "classifier_model.fit(X_train, y_train)"
   ]
  },
  {
   "cell_type": "code",
   "execution_count": 300,
   "metadata": {
    "scrolled": false
   },
   "outputs": [
    {
     "data": {
      "text/plain": [
       "([mean: 0.62345, std: 0.00007, params: {'randomforestclassifier__criterion': 'gini', 'randomforestclassifier__max_features': 'sqrt', 'randomforestclassifier__n_estimators': 3000},\n",
       "  mean: 0.62491, std: 0.00018, params: {'randomforestclassifier__criterion': 'gini', 'randomforestclassifier__max_features': 'sqrt', 'randomforestclassifier__n_estimators': 5000},\n",
       "  mean: 0.62490, std: 0.00030, params: {'randomforestclassifier__criterion': 'gini', 'randomforestclassifier__max_features': 'sqrt', 'randomforestclassifier__n_estimators': 7000},\n",
       "  mean: 0.62313, std: 0.00042, params: {'randomforestclassifier__criterion': 'gini', 'randomforestclassifier__max_features': 'log2', 'randomforestclassifier__n_estimators': 3000},\n",
       "  mean: 0.62252, std: 0.00017, params: {'randomforestclassifier__criterion': 'gini', 'randomforestclassifier__max_features': 'log2', 'randomforestclassifier__n_estimators': 5000},\n",
       "  mean: 0.62313, std: 0.00009, params: {'randomforestclassifier__criterion': 'gini', 'randomforestclassifier__max_features': 'log2', 'randomforestclassifier__n_estimators': 7000},\n",
       "  mean: 0.62446, std: 0.00034, params: {'randomforestclassifier__criterion': 'entropy', 'randomforestclassifier__max_features': 'sqrt', 'randomforestclassifier__n_estimators': 3000},\n",
       "  mean: 0.62547, std: 0.00067, params: {'randomforestclassifier__criterion': 'entropy', 'randomforestclassifier__max_features': 'sqrt', 'randomforestclassifier__n_estimators': 5000},\n",
       "  mean: 0.62486, std: 0.00019, params: {'randomforestclassifier__criterion': 'entropy', 'randomforestclassifier__max_features': 'sqrt', 'randomforestclassifier__n_estimators': 7000},\n",
       "  mean: 0.62251, std: 0.00064, params: {'randomforestclassifier__criterion': 'entropy', 'randomforestclassifier__max_features': 'log2', 'randomforestclassifier__n_estimators': 3000},\n",
       "  mean: 0.62328, std: 0.00077, params: {'randomforestclassifier__criterion': 'entropy', 'randomforestclassifier__max_features': 'log2', 'randomforestclassifier__n_estimators': 5000},\n",
       "  mean: 0.62362, std: 0.00057, params: {'randomforestclassifier__criterion': 'entropy', 'randomforestclassifier__max_features': 'log2', 'randomforestclassifier__n_estimators': 7000}],\n",
       " {'randomforestclassifier__criterion': 'entropy',\n",
       "  'randomforestclassifier__max_features': 'sqrt',\n",
       "  'randomforestclassifier__n_estimators': 5000},\n",
       " 0.6254703183789797)"
      ]
     },
     "execution_count": 300,
     "metadata": {},
     "output_type": "execute_result"
    }
   ],
   "source": [
    "classifier_model.grid_scores_, classifier_model.best_params_, classifier_model.best_score_"
   ]
  },
  {
   "cell_type": "markdown",
   "metadata": {},
   "source": [
    "#### FITTING BEST RANDOM FOREST"
   ]
  },
  {
   "cell_type": "code",
   "execution_count": 301,
   "metadata": {},
   "outputs": [],
   "source": [
    "classifier_pipeline = make_pipeline(\n",
    "    preprocess_pipeline,\n",
    "    RandomForestClassifier(bootstrap=True,n_jobs=-1, \n",
    "    criterion=\"entropy\", max_features=\"sqrt\", n_estimators=5000)\n",
    ")"
   ]
  },
  {
   "cell_type": "code",
   "execution_count": 302,
   "metadata": {},
   "outputs": [
    {
     "data": {
      "text/plain": [
       "Pipeline(memory=None,\n",
       "     steps=[('pipeline', Pipeline(memory=None,\n",
       "     steps=[('columnselector', ColumnSelector(columns=['avg_mthly_rev', 'avg_no_of_mthly_mins', 'avg_total_mthly_recurring_charge', 'avg_no_of_directory_assisted_calls', 'avg_overage_mins', 'avg_overage_rev', 'avg_rev_of_voice_overage', 'avg_rev_of_data_over..._jobs=-1,\n",
       "            oob_score=False, random_state=None, verbose=0,\n",
       "            warm_start=False))])"
      ]
     },
     "execution_count": 302,
     "metadata": {},
     "output_type": "execute_result"
    }
   ],
   "source": [
    "classifier_model = classifier_pipeline  #GridSearchCV(classifier_pipeline,param_grid, cv=2)\n",
    "classifier_model.fit(X_train, y_train)"
   ]
  },
  {
   "cell_type": "code",
   "execution_count": 303,
   "metadata": {},
   "outputs": [],
   "source": [
    "y_pred = classifier_model.predict(X_test)"
   ]
  },
  {
   "cell_type": "code",
   "execution_count": 304,
   "metadata": {},
   "outputs": [],
   "source": [
    "from sklearn import metrics"
   ]
  },
  {
   "cell_type": "code",
   "execution_count": 305,
   "metadata": {},
   "outputs": [
    {
     "data": {
      "text/plain": [
       "array([[6344, 3492],\n",
       "       [3792, 6372]], dtype=int64)"
      ]
     },
     "execution_count": 305,
     "metadata": {},
     "output_type": "execute_result"
    }
   ],
   "source": [
    "metrics.confusion_matrix(y_pred, y_test)"
   ]
  },
  {
   "cell_type": "code",
   "execution_count": 306,
   "metadata": {
    "scrolled": false
   },
   "outputs": [
    {
     "name": "stdout",
     "output_type": "stream",
     "text": [
      "             precision    recall  f1-score   support\n",
      "\n",
      "          0       0.63      0.64      0.64      9836\n",
      "          1       0.65      0.63      0.64     10164\n",
      "\n",
      "avg / total       0.64      0.64      0.64     20000\n",
      "\n"
     ]
    }
   ],
   "source": [
    "# Best Random Forest Approach - 2\n",
    "print(metrics.classification_report(y_pred, y_test))"
   ]
  },
  {
   "cell_type": "code",
   "execution_count": 307,
   "metadata": {},
   "outputs": [
    {
     "data": {
      "text/plain": [
       "0.2717624261084808"
      ]
     },
     "execution_count": 307,
     "metadata": {},
     "output_type": "execute_result"
    }
   ],
   "source": [
    "metrics.cohen_kappa_score(y_pred, y_test)"
   ]
  },
  {
   "cell_type": "code",
   "execution_count": 329,
   "metadata": {
    "scrolled": false
   },
   "outputs": [
    {
     "data": {
      "image/png": "[encoded data removed]",
      "text/plain": [
       "<Figure size 1152x864 with 1 Axes>"
      ]
     },
     "metadata": {},
     "output_type": "display_data"
    }
   ],
   "source": [
    "plot_roc(y_test, y_pred)"
   ]
  },
  {
   "cell_type": "code",
   "execution_count": 309,
   "metadata": {},
   "outputs": [
    {
     "name": "stdout",
     "output_type": "stream",
     "text": [
      "Normalized confusion matrix\n",
      "[[0.63 0.37]\n",
      " [0.35 0.65]]\n"
     ]
    },
    {
     "data": {
      "image/png": "[encoded data removed]",
      "text/plain": [
       "<Figure size 432x288 with 2 Axes>"
      ]
     },
     "metadata": {},
     "output_type": "display_data"
    }
   ],
   "source": [
    "plot_confusion_matrix(y_test, y_pred, classes=class_names, normalize=True, \n",
    "                      title='Normalized confusion matrix')\n",
    "\n",
    "plt.show()"
   ]
  },
  {
   "cell_type": "markdown",
   "metadata": {},
   "source": [
    "### ADA Boost"
   ]
  },
  {
   "cell_type": "code",
   "execution_count": 310,
   "metadata": {},
   "outputs": [],
   "source": [
    "from sklearn.ensemble import AdaBoostClassifier"
   ]
  },
  {
   "cell_type": "code",
   "execution_count": 311,
   "metadata": {},
   "outputs": [],
   "source": [
    "classifier_pipeline = make_pipeline(\n",
    "    preprocess_pipeline,\n",
    "    AdaBoostClassifier()\n",
    ")"
   ]
  },
  {
   "cell_type": "code",
   "execution_count": 312,
   "metadata": {
    "scrolled": false
   },
   "outputs": [
    {
     "name": "stdout",
     "output_type": "stream",
     "text": [
      "transforming the data\n",
      "transforming the data\n",
      "transforming the data\n",
      "transforming the data\n",
      "transforming the data\n",
      "transforming the data\n",
      "transforming the data\n",
      "transforming the data\n",
      "transforming the data\n",
      "transforming the data\n",
      "transforming the data\n",
      "transforming the data\n",
      "transforming the data\n",
      "transforming the data\n",
      "transforming the data\n",
      "transforming the data\n",
      "transforming the data\n",
      "transforming the data\n",
      "transforming the data\n",
      "transforming the data\n",
      "transforming the data\n",
      "transforming the data\n",
      "transforming the data\n",
      "transforming the data\n",
      "transforming the data\n",
      "transforming the data\n",
      "transforming the data\n",
      "transforming the data\n",
      "transforming the data\n",
      "transforming the data\n",
      "transforming the data\n",
      "transforming the data\n",
      "transforming the data\n",
      "transforming the data\n",
      "transforming the data\n",
      "transforming the data\n",
      "transforming the data\n",
      "transforming the data\n",
      "transforming the data\n",
      "transforming the data\n",
      "transforming the data\n",
      "transforming the data\n",
      "transforming the data\n",
      "transforming the data\n",
      "transforming the data\n",
      "transforming the data\n",
      "transforming the data\n",
      "transforming the data\n",
      "transforming the data\n",
      "transforming the data\n"
     ]
    },
    {
     "data": {
      "text/plain": [
       "GridSearchCV(cv=2, error_score='raise',\n",
       "       estimator=Pipeline(memory=None,\n",
       "     steps=[('pipeline', Pipeline(memory=None,\n",
       "     steps=[('columnselector', ColumnSelector(columns=['avg_mthly_rev', 'avg_no_of_mthly_mins', 'avg_total_mthly_recurring_charge', 'avg_no_of_directory_assisted_calls', 'avg_overage_mins', 'avg_overage_rev', 'avg_rev_of_voice_overage', 'avg_rev_of_data_over...m='SAMME.R', base_estimator=None,\n",
       "          learning_rate=1.0, n_estimators=50, random_state=None))]),\n",
       "       fit_params=None, iid=True, n_jobs=1,\n",
       "       param_grid={'adaboostclassifier__n_estimators': [50, 100, 250, 500], 'adaboostclassifier__learning_rate': [0.001, 0.01, 0.1, 1, 10, 100]},\n",
       "       pre_dispatch='2*n_jobs', refit=True, return_train_score='warn',\n",
       "       scoring=None, verbose=0)"
      ]
     },
     "execution_count": 312,
     "metadata": {},
     "output_type": "execute_result"
    }
   ],
   "source": [
    "param_grid = {'adaboostclassifier__n_estimators': [50, 100, 250, 500],                                         \n",
    "               'adaboostclassifier__learning_rate': [10 ** x for x in range(-3, 3)]}\n",
    "\n",
    "classifier_model = GridSearchCV(classifier_pipeline,param_grid, cv=2)\n",
    "classifier_model.fit(X_train, y_train)"
   ]
  },
  {
   "cell_type": "code",
   "execution_count": 313,
   "metadata": {
    "scrolled": true
   },
   "outputs": [
    {
     "data": {
      "text/plain": [
       "([mean: 0.58042, std: 0.00021, params: {'adaboostclassifier__learning_rate': 0.001, 'adaboostclassifier__n_estimators': 50},\n",
       "  mean: 0.58042, std: 0.00021, params: {'adaboostclassifier__learning_rate': 0.001, 'adaboostclassifier__n_estimators': 100},\n",
       "  mean: 0.58042, std: 0.00021, params: {'adaboostclassifier__learning_rate': 0.001, 'adaboostclassifier__n_estimators': 250},\n",
       "  mean: 0.57907, std: 0.00156, params: {'adaboostclassifier__learning_rate': 0.001, 'adaboostclassifier__n_estimators': 500},\n",
       "  mean: 0.57907, std: 0.00156, params: {'adaboostclassifier__learning_rate': 0.01, 'adaboostclassifier__n_estimators': 50},\n",
       "  mean: 0.57804, std: 0.00053, params: {'adaboostclassifier__learning_rate': 0.01, 'adaboostclassifier__n_estimators': 100},\n",
       "  mean: 0.58016, std: 0.00028, params: {'adaboostclassifier__learning_rate': 0.01, 'adaboostclassifier__n_estimators': 250},\n",
       "  mean: 0.58144, std: 0.00023, params: {'adaboostclassifier__learning_rate': 0.01, 'adaboostclassifier__n_estimators': 500},\n",
       "  mean: 0.58188, std: 0.00043, params: {'adaboostclassifier__learning_rate': 0.1, 'adaboostclassifier__n_estimators': 50},\n",
       "  mean: 0.59273, std: 0.00027, params: {'adaboostclassifier__learning_rate': 0.1, 'adaboostclassifier__n_estimators': 100},\n",
       "  mean: 0.60832, std: 0.00057, params: {'adaboostclassifier__learning_rate': 0.1, 'adaboostclassifier__n_estimators': 250},\n",
       "  mean: 0.61646, std: 0.00006, params: {'adaboostclassifier__learning_rate': 0.1, 'adaboostclassifier__n_estimators': 500},\n",
       "  mean: 0.61272, std: 0.00042, params: {'adaboostclassifier__learning_rate': 1, 'adaboostclassifier__n_estimators': 50},\n",
       "  mean: 0.61931, std: 0.00103, params: {'adaboostclassifier__learning_rate': 1, 'adaboostclassifier__n_estimators': 100},\n",
       "  mean: 0.62150, std: 0.00260, params: {'adaboostclassifier__learning_rate': 1, 'adaboostclassifier__n_estimators': 250},\n",
       "  mean: 0.62136, std: 0.00018, params: {'adaboostclassifier__learning_rate': 1, 'adaboostclassifier__n_estimators': 500},\n",
       "  mean: 0.49622, std: 0.00001, params: {'adaboostclassifier__learning_rate': 10, 'adaboostclassifier__n_estimators': 50},\n",
       "  mean: 0.49622, std: 0.00001, params: {'adaboostclassifier__learning_rate': 10, 'adaboostclassifier__n_estimators': 100},\n",
       "  mean: 0.49622, std: 0.00001, params: {'adaboostclassifier__learning_rate': 10, 'adaboostclassifier__n_estimators': 250},\n",
       "  mean: 0.49622, std: 0.00001, params: {'adaboostclassifier__learning_rate': 10, 'adaboostclassifier__n_estimators': 500},\n",
       "  mean: 0.50378, std: 0.00001, params: {'adaboostclassifier__learning_rate': 100, 'adaboostclassifier__n_estimators': 50},\n",
       "  mean: 0.50378, std: 0.00001, params: {'adaboostclassifier__learning_rate': 100, 'adaboostclassifier__n_estimators': 100},\n",
       "  mean: 0.50378, std: 0.00001, params: {'adaboostclassifier__learning_rate': 100, 'adaboostclassifier__n_estimators': 250},\n",
       "  mean: 0.50378, std: 0.00001, params: {'adaboostclassifier__learning_rate': 100, 'adaboostclassifier__n_estimators': 500}],\n",
       " {'adaboostclassifier__learning_rate': 1,\n",
       "  'adaboostclassifier__n_estimators': 250},\n",
       " 0.6214952686908586)"
      ]
     },
     "execution_count": 313,
     "metadata": {},
     "output_type": "execute_result"
    }
   ],
   "source": [
    "classifier_model.grid_scores_, classifier_model.best_params_, classifier_model.best_score_"
   ]
  },
  {
   "cell_type": "code",
   "execution_count": 314,
   "metadata": {},
   "outputs": [],
   "source": [
    "y_pred = classifier_model.predict(X_test)"
   ]
  },
  {
   "cell_type": "markdown",
   "metadata": {},
   "source": [
    "### Best ADA BOOST"
   ]
  },
  {
   "cell_type": "code",
   "execution_count": 315,
   "metadata": {},
   "outputs": [],
   "source": [
    "from sklearn import metrics"
   ]
  },
  {
   "cell_type": "code",
   "execution_count": 316,
   "metadata": {},
   "outputs": [],
   "source": [
    "classifier_pipeline = make_pipeline(\n",
    "    preprocess_pipeline,\n",
    "    AdaBoostClassifier(learning_rate=1, n_estimators=250)\n",
    ")"
   ]
  },
  {
   "cell_type": "code",
   "execution_count": 317,
   "metadata": {},
   "outputs": [
    {
     "data": {
      "text/plain": [
       "Pipeline(memory=None,\n",
       "     steps=[('pipeline', Pipeline(memory=None,\n",
       "     steps=[('columnselector', ColumnSelector(columns=['avg_mthly_rev', 'avg_no_of_mthly_mins', 'avg_total_mthly_recurring_charge', 'avg_no_of_directory_assisted_calls', 'avg_overage_mins', 'avg_overage_rev', 'avg_rev_of_voice_overage', 'avg_rev_of_data_over...hm='SAMME.R', base_estimator=None, learning_rate=1,\n",
       "          n_estimators=250, random_state=None))])"
      ]
     },
     "execution_count": 317,
     "metadata": {},
     "output_type": "execute_result"
    }
   ],
   "source": [
    "classifier_model = classifier_pipeline  #GridSearchCV(classifier_pipeline,param_grid, cv=2)\n",
    "classifier_model.fit(X_train, y_train)"
   ]
  },
  {
   "cell_type": "code",
   "execution_count": 318,
   "metadata": {},
   "outputs": [],
   "source": [
    "y_pred = classifier_model.predict(X_test)"
   ]
  },
  {
   "cell_type": "code",
   "execution_count": 319,
   "metadata": {},
   "outputs": [],
   "source": [
    "from sklearn import metrics"
   ]
  },
  {
   "cell_type": "code",
   "execution_count": 320,
   "metadata": {},
   "outputs": [
    {
     "data": {
      "text/plain": [
       "array([[6356, 3621],\n",
       "       [3780, 6243]], dtype=int64)"
      ]
     },
     "execution_count": 320,
     "metadata": {},
     "output_type": "execute_result"
    }
   ],
   "source": [
    "metrics.confusion_matrix(y_pred, y_test)"
   ]
  },
  {
   "cell_type": "code",
   "execution_count": 321,
   "metadata": {
    "scrolled": false
   },
   "outputs": [
    {
     "name": "stdout",
     "output_type": "stream",
     "text": [
      "             precision    recall  f1-score   support\n",
      "\n",
      "          0       0.63      0.64      0.63      9977\n",
      "          1       0.63      0.62      0.63     10023\n",
      "\n",
      "avg / total       0.63      0.63      0.63     20000\n",
      "\n"
     ]
    }
   ],
   "source": [
    "# Best ADA Boost Appraoch - 2\n",
    "print(metrics.classification_report(y_pred, y_test))"
   ]
  },
  {
   "cell_type": "code",
   "execution_count": 322,
   "metadata": {},
   "outputs": [
    {
     "data": {
      "text/plain": [
       "0.2599231496038804"
      ]
     },
     "execution_count": 322,
     "metadata": {},
     "output_type": "execute_result"
    }
   ],
   "source": [
    "metrics.cohen_kappa_score(y_pred, y_test)"
   ]
  },
  {
   "cell_type": "code",
   "execution_count": 323,
   "metadata": {
    "scrolled": false
   },
   "outputs": [
    {
     "data": {
      "image/png": "[encoded data removed]",
      "text/plain": [
       "<Figure size 1152x864 with 1 Axes>"
      ]
     },
     "metadata": {},
     "output_type": "display_data"
    }
   ],
   "source": [
    "plot_roc(y_test, y_pred)"
   ]
  },
  {
   "cell_type": "code",
   "execution_count": 324,
   "metadata": {},
   "outputs": [
    {
     "name": "stdout",
     "output_type": "stream",
     "text": [
      "Normalized confusion matrix\n",
      "[[0.63 0.37]\n",
      " [0.37 0.63]]\n"
     ]
    },
    {
     "data": {
      "image/png": "[encoded data removed]",
      "text/plain": [
       "<Figure size 432x288 with 2 Axes>"
      ]
     },
     "metadata": {},
     "output_type": "display_data"
    }
   ],
   "source": [
    "plot_confusion_matrix(y_test, y_pred, classes=class_names, normalize=True, \n",
    "                      title='Normalized confusion matrix')\n",
    "\n",
    "plt.show()"
   ]
  },
  {
   "cell_type": "markdown",
   "metadata": {},
   "source": [
    "### GAUSSIAN PROCESS CLASSIFIER - DOES NOT EXEUTE FOR SUCH LARGE DATA \n",
    "- IT turns the data into a matrix of 99,999 x 99,999 : the processor runs out of memory"
   ]
  },
  {
   "cell_type": "markdown",
   "metadata": {},
   "source": [
    "   ### Gaussian Process Classifier"
   ]
  },
  {
   "cell_type": "code",
   "execution_count": 159,
   "metadata": {},
   "outputs": [],
   "source": [
    "from sklearn.gaussian_process import GaussianProcessClassifier\n",
    "from sklearn.gaussian_process.kernels import RBF, ConstantKernel as C"
   ]
  },
  {
   "cell_type": "code",
   "execution_count": 160,
   "metadata": {},
   "outputs": [],
   "source": [
    "#kernel = C(1.0, (1e-3, 1e3)) * RBF([5,5], (1e-2, 1e2))"
   ]
  },
  {
   "cell_type": "code",
   "execution_count": null,
   "metadata": {},
   "outputs": [],
   "source": [
    "(kernel=None, optimizer='fmin_l_bfgs_b', n_restarts_optimizer=0, max_iter_predict=100, warm_start=False, \n",
    "copy_X_train=True, random_state=None, multi_class= 'one_vs_rest' , n_jobs=1)"
   ]
  },
  {
   "cell_type": "code",
   "execution_count": 228,
   "metadata": {},
   "outputs": [],
   "source": [
    "param_grid = {'gaussianprocessclassifier_n_restarts_optimizer' : [3,5, 10]}\n",
    "             #'gaussianprocessclassifier_copy_X_train' : [False]"
   ]
  },
  {
   "cell_type": "code",
   "execution_count": 229,
   "metadata": {},
   "outputs": [],
   "source": [
    "classifier_pipeline = make_pipeline(\n",
    "    preprocess_pipeline,\n",
    "    GaussianProcessClassifier(kernel = C(1.0, (1e-3, 1e3)) * RBF([5,5], (1e-2, 1e2)))                # kernel=kernel, n_restarts_optimizer=15\n",
    ")"
   ]
  },
  {
   "cell_type": "code",
   "execution_count": 230,
   "metadata": {},
   "outputs": [
    {
     "name": "stdout",
     "output_type": "stream",
     "text": [
      "transforming the data\n",
      "transforming the data\n"
     ]
    },
    {
     "ename": "ValueError",
     "evalue": "Invalid parameter gaussianprocessclassifier_n_restarts_optimizer for estimator Pipeline(memory=None,\n     steps=[('pipeline', Pipeline(memory=None,\n     steps=[('columnselector', ColumnSelector(columns=['avg_mthly_rev', 'avg_no_of_mthly_mins', 'avg_total_mthly_recurring_charge', 'avg_no_of_directory_assisted_calls', 'avg_overage_mins', 'avg_overage_rev', 'avg_rev_of_voice_overage', 'avg_rev_of_data_over...mizer=0,\n             optimizer='fmin_l_bfgs_b', random_state=None,\n             warm_start=False))]). Check the list of available parameters with `estimator.get_params().keys()`.",
     "output_type": "error",
     "traceback": [
      "\u001b[1;31m---------------------------------------------------------------------------\u001b[0m",
      "\u001b[1;31mValueError\u001b[0m                                Traceback (most recent call last)",
      "\u001b[1;32m<ipython-input-230-fd272173a351>\u001b[0m in \u001b[0;36m<module>\u001b[1;34m()\u001b[0m\n\u001b[0;32m      2\u001b[0m \u001b[1;33m\u001b[0m\u001b[0m\n\u001b[0;32m      3\u001b[0m \u001b[0mclassifier_model\u001b[0m \u001b[1;33m=\u001b[0m \u001b[0mGridSearchCV\u001b[0m\u001b[1;33m(\u001b[0m\u001b[0mclassifier_pipeline\u001b[0m\u001b[1;33m,\u001b[0m \u001b[0mparam_grid\u001b[0m \u001b[1;33m=\u001b[0m \u001b[0mparam_grid\u001b[0m\u001b[1;33m,\u001b[0m \u001b[0mcv\u001b[0m\u001b[1;33m=\u001b[0m\u001b[1;36m2\u001b[0m\u001b[1;33m)\u001b[0m \u001b[1;31m#param_grid,\u001b[0m\u001b[1;33m\u001b[0m\u001b[0m\n\u001b[1;32m----> 4\u001b[1;33m \u001b[0mclassifier_model\u001b[0m\u001b[1;33m.\u001b[0m\u001b[0mfit\u001b[0m\u001b[1;33m(\u001b[0m\u001b[0mX_train\u001b[0m\u001b[1;33m,\u001b[0m \u001b[0my_train\u001b[0m\u001b[1;33m)\u001b[0m\u001b[1;33m\u001b[0m\u001b[0m\n\u001b[0m",
      "\u001b[1;32mD:\\Anaconda3\\lib\\site-packages\\sklearn\\model_selection\\_search.py\u001b[0m in \u001b[0;36mfit\u001b[1;34m(self, X, y, groups, **fit_params)\u001b[0m\n\u001b[0;32m    638\u001b[0m                                   error_score=self.error_score)\n\u001b[0;32m    639\u001b[0m           for parameters, (train, test) in product(candidate_params,\n\u001b[1;32m--> 640\u001b[1;33m                                                    cv.split(X, y, groups)))\n\u001b[0m\u001b[0;32m    641\u001b[0m \u001b[1;33m\u001b[0m\u001b[0m\n\u001b[0;32m    642\u001b[0m         \u001b[1;31m# if one choose to see train score, \"out\" will contain train score info\u001b[0m\u001b[1;33m\u001b[0m\u001b[1;33m\u001b[0m\u001b[0m\n",
      "\u001b[1;32mD:\\Anaconda3\\lib\\site-packages\\sklearn\\externals\\joblib\\parallel.py\u001b[0m in \u001b[0;36m__call__\u001b[1;34m(self, iterable)\u001b[0m\n\u001b[0;32m    777\u001b[0m             \u001b[1;31m# was dispatched. In particular this covers the edge\u001b[0m\u001b[1;33m\u001b[0m\u001b[1;33m\u001b[0m\u001b[0m\n\u001b[0;32m    778\u001b[0m             \u001b[1;31m# case of Parallel used with an exhausted iterator.\u001b[0m\u001b[1;33m\u001b[0m\u001b[1;33m\u001b[0m\u001b[0m\n\u001b[1;32m--> 779\u001b[1;33m             \u001b[1;32mwhile\u001b[0m \u001b[0mself\u001b[0m\u001b[1;33m.\u001b[0m\u001b[0mdispatch_one_batch\u001b[0m\u001b[1;33m(\u001b[0m\u001b[0miterator\u001b[0m\u001b[1;33m)\u001b[0m\u001b[1;33m:\u001b[0m\u001b[1;33m\u001b[0m\u001b[0m\n\u001b[0m\u001b[0;32m    780\u001b[0m                 \u001b[0mself\u001b[0m\u001b[1;33m.\u001b[0m\u001b[0m_iterating\u001b[0m \u001b[1;33m=\u001b[0m \u001b[1;32mTrue\u001b[0m\u001b[1;33m\u001b[0m\u001b[0m\n\u001b[0;32m    781\u001b[0m             \u001b[1;32melse\u001b[0m\u001b[1;33m:\u001b[0m\u001b[1;33m\u001b[0m\u001b[0m\n",
      "\u001b[1;32mD:\\Anaconda3\\lib\\site-packages\\sklearn\\externals\\joblib\\parallel.py\u001b[0m in \u001b[0;36mdispatch_one_batch\u001b[1;34m(self, iterator)\u001b[0m\n\u001b[0;32m    623\u001b[0m                 \u001b[1;32mreturn\u001b[0m \u001b[1;32mFalse\u001b[0m\u001b[1;33m\u001b[0m\u001b[0m\n\u001b[0;32m    624\u001b[0m             \u001b[1;32melse\u001b[0m\u001b[1;33m:\u001b[0m\u001b[1;33m\u001b[0m\u001b[0m\n\u001b[1;32m--> 625\u001b[1;33m                 \u001b[0mself\u001b[0m\u001b[1;33m.\u001b[0m\u001b[0m_dispatch\u001b[0m\u001b[1;33m(\u001b[0m\u001b[0mtasks\u001b[0m\u001b[1;33m)\u001b[0m\u001b[1;33m\u001b[0m\u001b[0m\n\u001b[0m\u001b[0;32m    626\u001b[0m                 \u001b[1;32mreturn\u001b[0m \u001b[1;32mTrue\u001b[0m\u001b[1;33m\u001b[0m\u001b[0m\n\u001b[0;32m    627\u001b[0m \u001b[1;33m\u001b[0m\u001b[0m\n",
      "\u001b[1;32mD:\\Anaconda3\\lib\\site-packages\\sklearn\\externals\\joblib\\parallel.py\u001b[0m in \u001b[0;36m_dispatch\u001b[1;34m(self, batch)\u001b[0m\n\u001b[0;32m    586\u001b[0m         \u001b[0mdispatch_timestamp\u001b[0m \u001b[1;33m=\u001b[0m \u001b[0mtime\u001b[0m\u001b[1;33m.\u001b[0m\u001b[0mtime\u001b[0m\u001b[1;33m(\u001b[0m\u001b[1;33m)\u001b[0m\u001b[1;33m\u001b[0m\u001b[0m\n\u001b[0;32m    587\u001b[0m         \u001b[0mcb\u001b[0m \u001b[1;33m=\u001b[0m \u001b[0mBatchCompletionCallBack\u001b[0m\u001b[1;33m(\u001b[0m\u001b[0mdispatch_timestamp\u001b[0m\u001b[1;33m,\u001b[0m \u001b[0mlen\u001b[0m\u001b[1;33m(\u001b[0m\u001b[0mbatch\u001b[0m\u001b[1;33m)\u001b[0m\u001b[1;33m,\u001b[0m \u001b[0mself\u001b[0m\u001b[1;33m)\u001b[0m\u001b[1;33m\u001b[0m\u001b[0m\n\u001b[1;32m--> 588\u001b[1;33m         \u001b[0mjob\u001b[0m \u001b[1;33m=\u001b[0m \u001b[0mself\u001b[0m\u001b[1;33m.\u001b[0m\u001b[0m_backend\u001b[0m\u001b[1;33m.\u001b[0m\u001b[0mapply_async\u001b[0m\u001b[1;33m(\u001b[0m\u001b[0mbatch\u001b[0m\u001b[1;33m,\u001b[0m \u001b[0mcallback\u001b[0m\u001b[1;33m=\u001b[0m\u001b[0mcb\u001b[0m\u001b[1;33m)\u001b[0m\u001b[1;33m\u001b[0m\u001b[0m\n\u001b[0m\u001b[0;32m    589\u001b[0m         \u001b[0mself\u001b[0m\u001b[1;33m.\u001b[0m\u001b[0m_jobs\u001b[0m\u001b[1;33m.\u001b[0m\u001b[0mappend\u001b[0m\u001b[1;33m(\u001b[0m\u001b[0mjob\u001b[0m\u001b[1;33m)\u001b[0m\u001b[1;33m\u001b[0m\u001b[0m\n\u001b[0;32m    590\u001b[0m \u001b[1;33m\u001b[0m\u001b[0m\n",
      "\u001b[1;32mD:\\Anaconda3\\lib\\site-packages\\sklearn\\externals\\joblib\\_parallel_backends.py\u001b[0m in \u001b[0;36mapply_async\u001b[1;34m(self, func, callback)\u001b[0m\n\u001b[0;32m    109\u001b[0m     \u001b[1;32mdef\u001b[0m \u001b[0mapply_async\u001b[0m\u001b[1;33m(\u001b[0m\u001b[0mself\u001b[0m\u001b[1;33m,\u001b[0m \u001b[0mfunc\u001b[0m\u001b[1;33m,\u001b[0m \u001b[0mcallback\u001b[0m\u001b[1;33m=\u001b[0m\u001b[1;32mNone\u001b[0m\u001b[1;33m)\u001b[0m\u001b[1;33m:\u001b[0m\u001b[1;33m\u001b[0m\u001b[0m\n\u001b[0;32m    110\u001b[0m         \u001b[1;34m\"\"\"Schedule a func to be run\"\"\"\u001b[0m\u001b[1;33m\u001b[0m\u001b[0m\n\u001b[1;32m--> 111\u001b[1;33m         \u001b[0mresult\u001b[0m \u001b[1;33m=\u001b[0m \u001b[0mImmediateResult\u001b[0m\u001b[1;33m(\u001b[0m\u001b[0mfunc\u001b[0m\u001b[1;33m)\u001b[0m\u001b[1;33m\u001b[0m\u001b[0m\n\u001b[0m\u001b[0;32m    112\u001b[0m         \u001b[1;32mif\u001b[0m \u001b[0mcallback\u001b[0m\u001b[1;33m:\u001b[0m\u001b[1;33m\u001b[0m\u001b[0m\n\u001b[0;32m    113\u001b[0m             \u001b[0mcallback\u001b[0m\u001b[1;33m(\u001b[0m\u001b[0mresult\u001b[0m\u001b[1;33m)\u001b[0m\u001b[1;33m\u001b[0m\u001b[0m\n",
      "\u001b[1;32mD:\\Anaconda3\\lib\\site-packages\\sklearn\\externals\\joblib\\_parallel_backends.py\u001b[0m in \u001b[0;36m__init__\u001b[1;34m(self, batch)\u001b[0m\n\u001b[0;32m    330\u001b[0m         \u001b[1;31m# Don't delay the application, to avoid keeping the input\u001b[0m\u001b[1;33m\u001b[0m\u001b[1;33m\u001b[0m\u001b[0m\n\u001b[0;32m    331\u001b[0m         \u001b[1;31m# arguments in memory\u001b[0m\u001b[1;33m\u001b[0m\u001b[1;33m\u001b[0m\u001b[0m\n\u001b[1;32m--> 332\u001b[1;33m         \u001b[0mself\u001b[0m\u001b[1;33m.\u001b[0m\u001b[0mresults\u001b[0m \u001b[1;33m=\u001b[0m \u001b[0mbatch\u001b[0m\u001b[1;33m(\u001b[0m\u001b[1;33m)\u001b[0m\u001b[1;33m\u001b[0m\u001b[0m\n\u001b[0m\u001b[0;32m    333\u001b[0m \u001b[1;33m\u001b[0m\u001b[0m\n\u001b[0;32m    334\u001b[0m     \u001b[1;32mdef\u001b[0m \u001b[0mget\u001b[0m\u001b[1;33m(\u001b[0m\u001b[0mself\u001b[0m\u001b[1;33m)\u001b[0m\u001b[1;33m:\u001b[0m\u001b[1;33m\u001b[0m\u001b[0m\n",
      "\u001b[1;32mD:\\Anaconda3\\lib\\site-packages\\sklearn\\externals\\joblib\\parallel.py\u001b[0m in \u001b[0;36m__call__\u001b[1;34m(self)\u001b[0m\n\u001b[0;32m    129\u001b[0m \u001b[1;33m\u001b[0m\u001b[0m\n\u001b[0;32m    130\u001b[0m     \u001b[1;32mdef\u001b[0m \u001b[0m__call__\u001b[0m\u001b[1;33m(\u001b[0m\u001b[0mself\u001b[0m\u001b[1;33m)\u001b[0m\u001b[1;33m:\u001b[0m\u001b[1;33m\u001b[0m\u001b[0m\n\u001b[1;32m--> 131\u001b[1;33m         \u001b[1;32mreturn\u001b[0m \u001b[1;33m[\u001b[0m\u001b[0mfunc\u001b[0m\u001b[1;33m(\u001b[0m\u001b[1;33m*\u001b[0m\u001b[0margs\u001b[0m\u001b[1;33m,\u001b[0m \u001b[1;33m**\u001b[0m\u001b[0mkwargs\u001b[0m\u001b[1;33m)\u001b[0m \u001b[1;32mfor\u001b[0m \u001b[0mfunc\u001b[0m\u001b[1;33m,\u001b[0m \u001b[0margs\u001b[0m\u001b[1;33m,\u001b[0m \u001b[0mkwargs\u001b[0m \u001b[1;32min\u001b[0m \u001b[0mself\u001b[0m\u001b[1;33m.\u001b[0m\u001b[0mitems\u001b[0m\u001b[1;33m]\u001b[0m\u001b[1;33m\u001b[0m\u001b[0m\n\u001b[0m\u001b[0;32m    132\u001b[0m \u001b[1;33m\u001b[0m\u001b[0m\n\u001b[0;32m    133\u001b[0m     \u001b[1;32mdef\u001b[0m \u001b[0m__len__\u001b[0m\u001b[1;33m(\u001b[0m\u001b[0mself\u001b[0m\u001b[1;33m)\u001b[0m\u001b[1;33m:\u001b[0m\u001b[1;33m\u001b[0m\u001b[0m\n",
      "\u001b[1;32mD:\\Anaconda3\\lib\\site-packages\\sklearn\\externals\\joblib\\parallel.py\u001b[0m in \u001b[0;36m<listcomp>\u001b[1;34m(.0)\u001b[0m\n\u001b[0;32m    129\u001b[0m \u001b[1;33m\u001b[0m\u001b[0m\n\u001b[0;32m    130\u001b[0m     \u001b[1;32mdef\u001b[0m \u001b[0m__call__\u001b[0m\u001b[1;33m(\u001b[0m\u001b[0mself\u001b[0m\u001b[1;33m)\u001b[0m\u001b[1;33m:\u001b[0m\u001b[1;33m\u001b[0m\u001b[0m\n\u001b[1;32m--> 131\u001b[1;33m         \u001b[1;32mreturn\u001b[0m \u001b[1;33m[\u001b[0m\u001b[0mfunc\u001b[0m\u001b[1;33m(\u001b[0m\u001b[1;33m*\u001b[0m\u001b[0margs\u001b[0m\u001b[1;33m,\u001b[0m \u001b[1;33m**\u001b[0m\u001b[0mkwargs\u001b[0m\u001b[1;33m)\u001b[0m \u001b[1;32mfor\u001b[0m \u001b[0mfunc\u001b[0m\u001b[1;33m,\u001b[0m \u001b[0margs\u001b[0m\u001b[1;33m,\u001b[0m \u001b[0mkwargs\u001b[0m \u001b[1;32min\u001b[0m \u001b[0mself\u001b[0m\u001b[1;33m.\u001b[0m\u001b[0mitems\u001b[0m\u001b[1;33m]\u001b[0m\u001b[1;33m\u001b[0m\u001b[0m\n\u001b[0m\u001b[0;32m    132\u001b[0m \u001b[1;33m\u001b[0m\u001b[0m\n\u001b[0;32m    133\u001b[0m     \u001b[1;32mdef\u001b[0m \u001b[0m__len__\u001b[0m\u001b[1;33m(\u001b[0m\u001b[0mself\u001b[0m\u001b[1;33m)\u001b[0m\u001b[1;33m:\u001b[0m\u001b[1;33m\u001b[0m\u001b[0m\n",
      "\u001b[1;32mD:\\Anaconda3\\lib\\site-packages\\sklearn\\model_selection\\_validation.py\u001b[0m in \u001b[0;36m_fit_and_score\u001b[1;34m(estimator, X, y, scorer, train, test, verbose, parameters, fit_params, return_train_score, return_parameters, return_n_test_samples, return_times, error_score)\u001b[0m\n\u001b[0;32m    442\u001b[0m     \u001b[0mtrain_scores\u001b[0m \u001b[1;33m=\u001b[0m \u001b[1;33m{\u001b[0m\u001b[1;33m}\u001b[0m\u001b[1;33m\u001b[0m\u001b[0m\n\u001b[0;32m    443\u001b[0m     \u001b[1;32mif\u001b[0m \u001b[0mparameters\u001b[0m \u001b[1;32mis\u001b[0m \u001b[1;32mnot\u001b[0m \u001b[1;32mNone\u001b[0m\u001b[1;33m:\u001b[0m\u001b[1;33m\u001b[0m\u001b[0m\n\u001b[1;32m--> 444\u001b[1;33m         \u001b[0mestimator\u001b[0m\u001b[1;33m.\u001b[0m\u001b[0mset_params\u001b[0m\u001b[1;33m(\u001b[0m\u001b[1;33m**\u001b[0m\u001b[0mparameters\u001b[0m\u001b[1;33m)\u001b[0m\u001b[1;33m\u001b[0m\u001b[0m\n\u001b[0m\u001b[0;32m    445\u001b[0m \u001b[1;33m\u001b[0m\u001b[0m\n\u001b[0;32m    446\u001b[0m     \u001b[0mstart_time\u001b[0m \u001b[1;33m=\u001b[0m \u001b[0mtime\u001b[0m\u001b[1;33m.\u001b[0m\u001b[0mtime\u001b[0m\u001b[1;33m(\u001b[0m\u001b[1;33m)\u001b[0m\u001b[1;33m\u001b[0m\u001b[0m\n",
      "\u001b[1;32mD:\\Anaconda3\\lib\\site-packages\\sklearn\\pipeline.py\u001b[0m in \u001b[0;36mset_params\u001b[1;34m(self, **kwargs)\u001b[0m\n\u001b[0;32m    140\u001b[0m         \u001b[0mself\u001b[0m\u001b[1;33m\u001b[0m\u001b[0m\n\u001b[0;32m    141\u001b[0m         \"\"\"\n\u001b[1;32m--> 142\u001b[1;33m         \u001b[0mself\u001b[0m\u001b[1;33m.\u001b[0m\u001b[0m_set_params\u001b[0m\u001b[1;33m(\u001b[0m\u001b[1;34m'steps'\u001b[0m\u001b[1;33m,\u001b[0m \u001b[1;33m**\u001b[0m\u001b[0mkwargs\u001b[0m\u001b[1;33m)\u001b[0m\u001b[1;33m\u001b[0m\u001b[0m\n\u001b[0m\u001b[0;32m    143\u001b[0m         \u001b[1;32mreturn\u001b[0m \u001b[0mself\u001b[0m\u001b[1;33m\u001b[0m\u001b[0m\n\u001b[0;32m    144\u001b[0m \u001b[1;33m\u001b[0m\u001b[0m\n",
      "\u001b[1;32mD:\\Anaconda3\\lib\\site-packages\\sklearn\\utils\\metaestimators.py\u001b[0m in \u001b[0;36m_set_params\u001b[1;34m(self, attr, **params)\u001b[0m\n\u001b[0;32m     47\u001b[0m                 \u001b[0mself\u001b[0m\u001b[1;33m.\u001b[0m\u001b[0m_replace_estimator\u001b[0m\u001b[1;33m(\u001b[0m\u001b[0mattr\u001b[0m\u001b[1;33m,\u001b[0m \u001b[0mname\u001b[0m\u001b[1;33m,\u001b[0m \u001b[0mparams\u001b[0m\u001b[1;33m.\u001b[0m\u001b[0mpop\u001b[0m\u001b[1;33m(\u001b[0m\u001b[0mname\u001b[0m\u001b[1;33m)\u001b[0m\u001b[1;33m)\u001b[0m\u001b[1;33m\u001b[0m\u001b[0m\n\u001b[0;32m     48\u001b[0m         \u001b[1;31m# 3. Step parameters and other initilisation arguments\u001b[0m\u001b[1;33m\u001b[0m\u001b[1;33m\u001b[0m\u001b[0m\n\u001b[1;32m---> 49\u001b[1;33m         \u001b[0msuper\u001b[0m\u001b[1;33m(\u001b[0m\u001b[0m_BaseComposition\u001b[0m\u001b[1;33m,\u001b[0m \u001b[0mself\u001b[0m\u001b[1;33m)\u001b[0m\u001b[1;33m.\u001b[0m\u001b[0mset_params\u001b[0m\u001b[1;33m(\u001b[0m\u001b[1;33m**\u001b[0m\u001b[0mparams\u001b[0m\u001b[1;33m)\u001b[0m\u001b[1;33m\u001b[0m\u001b[0m\n\u001b[0m\u001b[0;32m     50\u001b[0m         \u001b[1;32mreturn\u001b[0m \u001b[0mself\u001b[0m\u001b[1;33m\u001b[0m\u001b[0m\n\u001b[0;32m     51\u001b[0m \u001b[1;33m\u001b[0m\u001b[0m\n",
      "\u001b[1;32mD:\\Anaconda3\\lib\\site-packages\\sklearn\\base.py\u001b[0m in \u001b[0;36mset_params\u001b[1;34m(self, **params)\u001b[0m\n\u001b[0;32m    272\u001b[0m                                  \u001b[1;34m'Check the list of available parameters '\u001b[0m\u001b[1;33m\u001b[0m\u001b[0m\n\u001b[0;32m    273\u001b[0m                                  \u001b[1;34m'with `estimator.get_params().keys()`.'\u001b[0m \u001b[1;33m%\u001b[0m\u001b[1;33m\u001b[0m\u001b[0m\n\u001b[1;32m--> 274\u001b[1;33m                                  (key, self))\n\u001b[0m\u001b[0;32m    275\u001b[0m \u001b[1;33m\u001b[0m\u001b[0m\n\u001b[0;32m    276\u001b[0m             \u001b[1;32mif\u001b[0m \u001b[0mdelim\u001b[0m\u001b[1;33m:\u001b[0m\u001b[1;33m\u001b[0m\u001b[0m\n",
      "\u001b[1;31mValueError\u001b[0m: Invalid parameter gaussianprocessclassifier_n_restarts_optimizer for estimator Pipeline(memory=None,\n     steps=[('pipeline', Pipeline(memory=None,\n     steps=[('columnselector', ColumnSelector(columns=['avg_mthly_rev', 'avg_no_of_mthly_mins', 'avg_total_mthly_recurring_charge', 'avg_no_of_directory_assisted_calls', 'avg_overage_mins', 'avg_overage_rev', 'avg_rev_of_voice_overage', 'avg_rev_of_data_over...mizer=0,\n             optimizer='fmin_l_bfgs_b', random_state=None,\n             warm_start=False))]). Check the list of available parameters with `estimator.get_params().keys()`."
     ]
    }
   ],
   "source": [
    "#param_grid = {}\n",
    "\n",
    "classifier_model = GridSearchCV(classifier_pipeline, param_grid = param_grid, cv=2) #param_grid,\n",
    "classifier_model.fit(X_train, y_train)"
   ]
  },
  {
   "cell_type": "markdown",
   "metadata": {},
   "source": [
    "### No 4 Notebook Ends Here"
   ]
  }
 ],
 "metadata": {
  "kernelspec": {
   "display_name": "Python 3",
   "language": "python",
   "name": "python3"
  },
  "language_info": {
   "codemirror_mode": {
    "name": "ipython",
    "version": 3
   },
   "file_extension": ".py",
   "mimetype": "text/x-python",
   "name": "python",
   "nbconvert_exporter": "python",
   "pygments_lexer": "ipython3",
   "version": "3.6.5"
  }
 },
 "nbformat": 4,
 "nbformat_minor": 2
}
