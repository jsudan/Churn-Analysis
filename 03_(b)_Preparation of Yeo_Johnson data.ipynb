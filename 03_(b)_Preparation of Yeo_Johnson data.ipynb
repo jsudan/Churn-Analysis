{
 "cells": [
  {
   "cell_type": "markdown",
   "metadata": {},
   "source": [
    "#### TELECOM CUSTOMER CHURN : DATA 428 PROJECT\n",
    "# 3(B). Creating Ye-Johnson transformed data and Saving the File\n",
    "\n",
    "- For use by other Notebooks\n",
    "- All initial steps of data manipulation are same as Notebooks No. 2 & 3\n",
    "- Resorted to this due to a clash of sci-kit learn versions :-)\n"
   ]
  },
  {
   "cell_type": "code",
   "execution_count": 1,
   "metadata": {},
   "outputs": [],
   "source": [
    "import pandas as pd\n",
    "import numpy as np\n",
    "import scipy as sp \n",
    "import scipy.stats as sps\n",
    "import seaborn as sns\n",
    "import matplotlib.pyplot as plt\n",
    "%matplotlib inline"
   ]
  },
  {
   "cell_type": "code",
   "execution_count": 108,
   "metadata": {},
   "outputs": [],
   "source": [
    "# Using dataset with better column names\n",
    "\n",
    "data = pd.read_csv(\"telecom_data_better_colnames.csv\")"
   ]
  },
  {
   "cell_type": "code",
   "execution_count": 109,
   "metadata": {},
   "outputs": [
    {
     "data": {
      "text/html": [
       "<div>\n",
       "<style scoped>\n",
       "    .dataframe tbody tr th:only-of-type {\n",
       "        vertical-align: middle;\n",
       "    }\n",
       "\n",
       "    .dataframe tbody tr th {\n",
       "        vertical-align: top;\n",
       "    }\n",
       "\n",
       "    .dataframe thead th {\n",
       "        text-align: right;\n",
       "    }\n",
       "</style>\n",
       "<table border=\"1\" class=\"dataframe\">\n",
       "  <thead>\n",
       "    <tr style=\"text-align: right;\">\n",
       "      <th></th>\n",
       "      <th>avg_mthly_rev</th>\n",
       "      <th>avg_no_of_mthly_mins</th>\n",
       "      <th>avg_total_mthly_recurring_charge</th>\n",
       "      <th>avg_no_of_directory_assisted_calls</th>\n",
       "      <th>avg_overage_mins</th>\n",
       "      <th>avg_overage_rev</th>\n",
       "      <th>avg_rev_of_voice_overage</th>\n",
       "      <th>avg_rev_of_data_overage</th>\n",
       "      <th>avg_no_of_roaming_calls</th>\n",
       "      <th>percntg_change_in_mthly_mins_vs_previous_three_month_avg</th>\n",
       "      <th>...</th>\n",
       "      <th>foreign_travel_dummy_variable</th>\n",
       "      <th>ethnicity_roll_to_up_code</th>\n",
       "      <th>child_0_to_2_yrs_in_house</th>\n",
       "      <th>child_3_to_5_yrs_in_house</th>\n",
       "      <th>child_6_to_10_yrs_in_house</th>\n",
       "      <th>child_11_to_15_yrs_in_house</th>\n",
       "      <th>child_16_to_17_yrs_in_house</th>\n",
       "      <th>credit_card_indicator</th>\n",
       "      <th>no_of_days_of_current_equipment</th>\n",
       "      <th>cust_id</th>\n",
       "    </tr>\n",
       "  </thead>\n",
       "  <tbody>\n",
       "    <tr>\n",
       "      <th>0</th>\n",
       "      <td>23.9975</td>\n",
       "      <td>219.25</td>\n",
       "      <td>22.500</td>\n",
       "      <td>0.2475</td>\n",
       "      <td>0.00</td>\n",
       "      <td>0.0</td>\n",
       "      <td>0.0</td>\n",
       "      <td>0.0</td>\n",
       "      <td>0.0</td>\n",
       "      <td>-157.25</td>\n",
       "      <td>...</td>\n",
       "      <td>0.0</td>\n",
       "      <td>N</td>\n",
       "      <td>U</td>\n",
       "      <td>U</td>\n",
       "      <td>U</td>\n",
       "      <td>U</td>\n",
       "      <td>U</td>\n",
       "      <td>Y</td>\n",
       "      <td>NaN</td>\n",
       "      <td>1000001</td>\n",
       "    </tr>\n",
       "    <tr>\n",
       "      <th>1</th>\n",
       "      <td>57.4925</td>\n",
       "      <td>482.75</td>\n",
       "      <td>37.425</td>\n",
       "      <td>0.2475</td>\n",
       "      <td>22.75</td>\n",
       "      <td>9.1</td>\n",
       "      <td>9.1</td>\n",
       "      <td>0.0</td>\n",
       "      <td>0.0</td>\n",
       "      <td>532.25</td>\n",
       "      <td>...</td>\n",
       "      <td>0.0</td>\n",
       "      <td>Z</td>\n",
       "      <td>U</td>\n",
       "      <td>U</td>\n",
       "      <td>U</td>\n",
       "      <td>U</td>\n",
       "      <td>U</td>\n",
       "      <td>Y</td>\n",
       "      <td>240.0</td>\n",
       "      <td>1000002</td>\n",
       "    </tr>\n",
       "    <tr>\n",
       "      <th>2</th>\n",
       "      <td>16.9900</td>\n",
       "      <td>10.25</td>\n",
       "      <td>16.990</td>\n",
       "      <td>0.0000</td>\n",
       "      <td>0.00</td>\n",
       "      <td>0.0</td>\n",
       "      <td>0.0</td>\n",
       "      <td>0.0</td>\n",
       "      <td>0.0</td>\n",
       "      <td>-4.25</td>\n",
       "      <td>...</td>\n",
       "      <td>0.0</td>\n",
       "      <td>N</td>\n",
       "      <td>U</td>\n",
       "      <td>Y</td>\n",
       "      <td>U</td>\n",
       "      <td>U</td>\n",
       "      <td>U</td>\n",
       "      <td>Y</td>\n",
       "      <td>1504.0</td>\n",
       "      <td>1000003</td>\n",
       "    </tr>\n",
       "    <tr>\n",
       "      <th>3</th>\n",
       "      <td>38.0000</td>\n",
       "      <td>7.50</td>\n",
       "      <td>38.000</td>\n",
       "      <td>0.0000</td>\n",
       "      <td>0.00</td>\n",
       "      <td>0.0</td>\n",
       "      <td>0.0</td>\n",
       "      <td>0.0</td>\n",
       "      <td>0.0</td>\n",
       "      <td>-1.50</td>\n",
       "      <td>...</td>\n",
       "      <td>0.0</td>\n",
       "      <td>U</td>\n",
       "      <td>Y</td>\n",
       "      <td>U</td>\n",
       "      <td>U</td>\n",
       "      <td>U</td>\n",
       "      <td>U</td>\n",
       "      <td>Y</td>\n",
       "      <td>1812.0</td>\n",
       "      <td>1000004</td>\n",
       "    </tr>\n",
       "    <tr>\n",
       "      <th>4</th>\n",
       "      <td>55.2300</td>\n",
       "      <td>570.50</td>\n",
       "      <td>71.980</td>\n",
       "      <td>0.0000</td>\n",
       "      <td>0.00</td>\n",
       "      <td>0.0</td>\n",
       "      <td>0.0</td>\n",
       "      <td>0.0</td>\n",
       "      <td>0.0</td>\n",
       "      <td>38.50</td>\n",
       "      <td>...</td>\n",
       "      <td>0.0</td>\n",
       "      <td>I</td>\n",
       "      <td>U</td>\n",
       "      <td>U</td>\n",
       "      <td>U</td>\n",
       "      <td>U</td>\n",
       "      <td>U</td>\n",
       "      <td>Y</td>\n",
       "      <td>434.0</td>\n",
       "      <td>1000005</td>\n",
       "    </tr>\n",
       "  </tbody>\n",
       "</table>\n",
       "<p>5 rows × 100 columns</p>\n",
       "</div>"
      ],
      "text/plain": [
       "   avg_mthly_rev  avg_no_of_mthly_mins  avg_total_mthly_recurring_charge  \\\n",
       "0        23.9975                219.25                            22.500   \n",
       "1        57.4925                482.75                            37.425   \n",
       "2        16.9900                 10.25                            16.990   \n",
       "3        38.0000                  7.50                            38.000   \n",
       "4        55.2300                570.50                            71.980   \n",
       "\n",
       "   avg_no_of_directory_assisted_calls  avg_overage_mins  avg_overage_rev  \\\n",
       "0                              0.2475              0.00              0.0   \n",
       "1                              0.2475             22.75              9.1   \n",
       "2                              0.0000              0.00              0.0   \n",
       "3                              0.0000              0.00              0.0   \n",
       "4                              0.0000              0.00              0.0   \n",
       "\n",
       "   avg_rev_of_voice_overage  avg_rev_of_data_overage  avg_no_of_roaming_calls  \\\n",
       "0                       0.0                      0.0                      0.0   \n",
       "1                       9.1                      0.0                      0.0   \n",
       "2                       0.0                      0.0                      0.0   \n",
       "3                       0.0                      0.0                      0.0   \n",
       "4                       0.0                      0.0                      0.0   \n",
       "\n",
       "   percntg_change_in_mthly_mins_vs_previous_three_month_avg   ...     \\\n",
       "0                                            -157.25          ...      \n",
       "1                                             532.25          ...      \n",
       "2                                              -4.25          ...      \n",
       "3                                              -1.50          ...      \n",
       "4                                              38.50          ...      \n",
       "\n",
       "   foreign_travel_dummy_variable  ethnicity_roll_to_up_code  \\\n",
       "0                            0.0                          N   \n",
       "1                            0.0                          Z   \n",
       "2                            0.0                          N   \n",
       "3                            0.0                          U   \n",
       "4                            0.0                          I   \n",
       "\n",
       "   child_0_to_2_yrs_in_house  child_3_to_5_yrs_in_house  \\\n",
       "0                          U                          U   \n",
       "1                          U                          U   \n",
       "2                          U                          Y   \n",
       "3                          Y                          U   \n",
       "4                          U                          U   \n",
       "\n",
       "   child_6_to_10_yrs_in_house  child_11_to_15_yrs_in_house  \\\n",
       "0                           U                            U   \n",
       "1                           U                            U   \n",
       "2                           U                            U   \n",
       "3                           U                            U   \n",
       "4                           U                            U   \n",
       "\n",
       "   child_16_to_17_yrs_in_house  credit_card_indicator  \\\n",
       "0                            U                      Y   \n",
       "1                            U                      Y   \n",
       "2                            U                      Y   \n",
       "3                            U                      Y   \n",
       "4                            U                      Y   \n",
       "\n",
       "   no_of_days_of_current_equipment  cust_id  \n",
       "0                              NaN  1000001  \n",
       "1                            240.0  1000002  \n",
       "2                           1504.0  1000003  \n",
       "3                           1812.0  1000004  \n",
       "4                            434.0  1000005  \n",
       "\n",
       "[5 rows x 100 columns]"
      ]
     },
     "execution_count": 109,
     "metadata": {},
     "output_type": "execute_result"
    }
   ],
   "source": [
    "#data.drop('Unnamed: 0', axis=1, inplace=True)\n",
    "data.head()"
   ]
  },
  {
   "cell_type": "code",
   "execution_count": 110,
   "metadata": {},
   "outputs": [
    {
     "data": {
      "text/plain": [
       "(100000, 100)"
      ]
     },
     "execution_count": 110,
     "metadata": {},
     "output_type": "execute_result"
    }
   ],
   "source": [
    "data.shape"
   ]
  },
  {
   "cell_type": "markdown",
   "metadata": {},
   "source": [
    "## Data Wrangling - following issues to be addressed\n",
    "    - 'geographic_area' : names can be made better to avoid errors (learnt after making mistakes initially)\n",
    "    - drop rows with outliers \n",
    "    - drop columns with very high 'nan' / blanks\n",
    "    - drop columns like 'child_between_0_to_2_years_in_house' "
   ]
  },
  {
   "cell_type": "code",
   "execution_count": 112,
   "metadata": {},
   "outputs": [
    {
     "data": {
      "text/plain": [
       "array(['NORTHWEST/ROCKY MOUNTAIN AREA', 'CHICAGO AREA',\n",
       "       'GREAT LAKES AREA', 'NEW ENGLAND AREA', 'DALLAS AREA',\n",
       "       'CENTRAL/SOUTH TEXAS AREA', 'TENNESSEE AREA', 'MIDWEST AREA',\n",
       "       'PHILADELPHIA AREA', 'OHIO AREA', 'HOUSTON AREA', 'SOUTHWEST AREA',\n",
       "       'NEW YORK CITY AREA', 'ATLANTIC SOUTH AREA', 'SOUTH FLORIDA AREA',\n",
       "       'CALIFORNIA NORTH AREA', 'DC/MARYLAND/VIRGINIA AREA',\n",
       "       'NORTH FLORIDA AREA', nan, 'LOS ANGELES AREA'], dtype=object)"
      ]
     },
     "execution_count": 112,
     "metadata": {},
     "output_type": "execute_result"
    }
   ],
   "source": [
    "data[\"geogrpahic_area\"].unique()"
   ]
  },
  {
   "cell_type": "code",
   "execution_count": 113,
   "metadata": {},
   "outputs": [],
   "source": [
    "geo_area = []\n",
    "for i in range(len(data)):\n",
    "    item = data[\"geogrpahic_area\"][i]\n",
    "    #print(item)\n",
    "    if type(item) is float:\n",
    "        geo_area.append(item)\n",
    "        #print(item)\n",
    "    else:\n",
    "        name = item.replace(' ', '_')\n",
    "        name = name.replace('/', '_')\n",
    "        geo_area.append(name)"
   ]
  },
  {
   "cell_type": "code",
   "execution_count": 114,
   "metadata": {},
   "outputs": [],
   "source": [
    "data.drop(\"geogrpahic_area\", inplace=True, axis=1)"
   ]
  },
  {
   "cell_type": "code",
   "execution_count": 115,
   "metadata": {},
   "outputs": [],
   "source": [
    "data[\"geogrpahic_area\"] = geo_area"
   ]
  },
  {
   "cell_type": "code",
   "execution_count": 116,
   "metadata": {
    "scrolled": true
   },
   "outputs": [
    {
     "data": {
      "text/plain": [
       "array(['NORTHWEST_ROCKY_MOUNTAIN_AREA', 'CHICAGO_AREA',\n",
       "       'GREAT_LAKES_AREA', 'NEW_ENGLAND_AREA', 'DALLAS_AREA',\n",
       "       'CENTRAL_SOUTH_TEXAS_AREA', 'TENNESSEE_AREA', 'MIDWEST_AREA',\n",
       "       'PHILADELPHIA_AREA', 'OHIO_AREA', 'HOUSTON_AREA', 'SOUTHWEST_AREA',\n",
       "       'NEW_YORK_CITY_AREA', 'ATLANTIC_SOUTH_AREA', 'SOUTH_FLORIDA_AREA',\n",
       "       'CALIFORNIA_NORTH_AREA', 'DC_MARYLAND_VIRGINIA_AREA',\n",
       "       'NORTH_FLORIDA_AREA', nan, 'LOS_ANGELES_AREA'], dtype=object)"
      ]
     },
     "execution_count": 116,
     "metadata": {},
     "output_type": "execute_result"
    }
   ],
   "source": [
    "data[\"geogrpahic_area\"].unique()"
   ]
  },
  {
   "cell_type": "code",
   "execution_count": 117,
   "metadata": {},
   "outputs": [
    {
     "data": {
      "text/plain": [
       "(100000, 100)"
      ]
     },
     "execution_count": 117,
     "metadata": {},
     "output_type": "execute_result"
    }
   ],
   "source": [
    "data.shape"
   ]
  },
  {
   "cell_type": "markdown",
   "metadata": {},
   "source": [
    "### Creating a dataset by deleting all 'nan' / 'blanks'  --> original_data_without_NA.csv"
   ]
  },
  {
   "cell_type": "code",
   "execution_count": 118,
   "metadata": {},
   "outputs": [],
   "source": [
    "original_data_without_NA = data.dropna(axis=0, how='any', thresh=None, subset=None, inplace=False)"
   ]
  },
  {
   "cell_type": "code",
   "execution_count": 119,
   "metadata": {},
   "outputs": [],
   "source": [
    "original_data_without_NA = original_data_without_NA.reset_index()\n",
    "original_data_without_NA.drop('index', axis = 1, inplace=True) "
   ]
  },
  {
   "cell_type": "code",
   "execution_count": 120,
   "metadata": {},
   "outputs": [
    {
     "data": {
      "text/plain": [
       "(26704, 100)"
      ]
     },
     "execution_count": 120,
     "metadata": {},
     "output_type": "execute_result"
    }
   ],
   "source": [
    "original_data_without_NA.shape"
   ]
  },
  {
   "cell_type": "code",
   "execution_count": 121,
   "metadata": {},
   "outputs": [],
   "source": [
    "# Saving to a file\n",
    "\n",
    "#original_data_without_NA.to_csv('original_data_without_NA.csv')"
   ]
  },
  {
   "cell_type": "markdown",
   "metadata": {},
   "source": [
    "#### no_of_unique_subscribers_in_the_house \n",
    "    - This feature has numeric discrete values and some outliers like 196 unique users in a house.\n",
    "    - It's either a wrong entry or a 'close user group' (CUG) scenario of an organisation. \n",
    "    - Hence, dropping any entry with more than 20 subscribers in the house (making concessions for a hostel)"
   ]
  },
  {
   "cell_type": "code",
   "execution_count": 122,
   "metadata": {},
   "outputs": [
    {
     "data": {
      "text/plain": [
       "array([  2,   1,   3,   5,   4,   6,   7,   9,   8,  12,  11,  10,  13,\n",
       "        18, 196], dtype=int64)"
      ]
     },
     "execution_count": 122,
     "metadata": {},
     "output_type": "execute_result"
    }
   ],
   "source": [
    "data['no_of_unique_subscribers_in_the_house'].unique()"
   ]
  },
  {
   "cell_type": "code",
   "execution_count": 123,
   "metadata": {},
   "outputs": [],
   "source": [
    "for i in range(len(data)): \n",
    "    \n",
    "    value = data['no_of_unique_subscribers_in_the_house'][i]\n",
    "       \n",
    "    if value > 20:\n",
    "        data.drop(data.index[i], inplace = True)   \n",
    "data = data.reset_index()\n",
    "data.drop('index', axis = 1, inplace=True)"
   ]
  },
  {
   "cell_type": "code",
   "execution_count": 124,
   "metadata": {},
   "outputs": [],
   "source": [
    "for i in range(len(data)): \n",
    "    \n",
    "    value_2 = data['no_of_active_subscribers_in_house'][i]\n",
    "       \n",
    "    if value_2 > 20:\n",
    "        data.drop(data.index[i], inplace = True)    \n",
    "        \n",
    "data = data.reset_index()\n",
    "data.drop('index', axis = 1, inplace=True)   "
   ]
  },
  {
   "cell_type": "code",
   "execution_count": 125,
   "metadata": {
    "scrolled": true
   },
   "outputs": [
    {
     "data": {
      "text/plain": [
       "(99999, 100)"
      ]
     },
     "execution_count": 125,
     "metadata": {},
     "output_type": "execute_result"
    }
   ],
   "source": [
    "data.shape"
   ]
  },
  {
   "cell_type": "markdown",
   "metadata": {},
   "source": [
    "### Dropping features with large missing values\n",
    "    - 'known_no_of_vehicles' - 49.3% values missing (refer the data exploration notebook)"
   ]
  },
  {
   "cell_type": "code",
   "execution_count": 126,
   "metadata": {},
   "outputs": [],
   "source": [
    "data.drop('known_no_of_vehicles', inplace=True, axis = 1)"
   ]
  },
  {
   "cell_type": "code",
   "execution_count": 127,
   "metadata": {},
   "outputs": [],
   "source": [
    "data.drop('cust_id', inplace=True, axis = 1)"
   ]
  },
  {
   "cell_type": "code",
   "execution_count": 128,
   "metadata": {
    "scrolled": true
   },
   "outputs": [
    {
     "data": {
      "text/plain": [
       "(99999, 98)"
      ]
     },
     "execution_count": 128,
     "metadata": {},
     "output_type": "execute_result"
    }
   ],
   "source": [
    "data.shape"
   ]
  },
  {
   "cell_type": "markdown",
   "metadata": {},
   "source": [
    "### FEATURES WITH 'U'  : Assuming 'U' to be 'Unknown' or 'Missing Value'\n",
    "\n",
    "    - new_cell_phone_user : 66.9% 'U' values, which are as good as missing values\n",
    "    - dualband :  \"Y\", \"N\", \"T\", \"U\".  Where 'U' is only 0.02%"
   ]
  },
  {
   "cell_type": "code",
   "execution_count": 129,
   "metadata": {},
   "outputs": [
    {
     "data": {
      "text/plain": [
       "U    66913\n",
       "Y    19301\n",
       "N    13785\n",
       "Name: new_cell_phone_user, dtype: int64"
      ]
     },
     "execution_count": 129,
     "metadata": {},
     "output_type": "execute_result"
    }
   ],
   "source": [
    "data.new_cell_phone_user.value_counts()"
   ]
  },
  {
   "cell_type": "code",
   "execution_count": 130,
   "metadata": {},
   "outputs": [],
   "source": [
    "data.drop('new_cell_phone_user', inplace=True, axis = 1)"
   ]
  },
  {
   "cell_type": "code",
   "execution_count": 131,
   "metadata": {
    "scrolled": true
   },
   "outputs": [
    {
     "data": {
      "text/plain": [
       "Y    72264\n",
       "N    23196\n",
       "T     4316\n",
       "U      222\n",
       "Name: dualband, dtype: int64"
      ]
     },
     "execution_count": 131,
     "metadata": {},
     "output_type": "execute_result"
    }
   ],
   "source": [
    "# Need to decide - what to do with 'U'\n",
    "data.dualband.value_counts()"
   ]
  },
  {
   "cell_type": "code",
   "execution_count": 132,
   "metadata": {},
   "outputs": [],
   "source": [
    "data['dualband'] = data['dualband'].str.replace('U','Y')"
   ]
  },
  {
   "cell_type": "code",
   "execution_count": 133,
   "metadata": {},
   "outputs": [
    {
     "data": {
      "text/plain": [
       "WCMB    75732\n",
       "WC      13843\n",
       "UNKW      235\n",
       "Name: handset_web_capability, dtype: int64"
      ]
     },
     "execution_count": 133,
     "metadata": {},
     "output_type": "execute_result"
    }
   ],
   "source": [
    "# need to decide what to do with 'UNKW'\n",
    "data.handset_web_capability.value_counts()"
   ]
  },
  {
   "cell_type": "code",
   "execution_count": 134,
   "metadata": {},
   "outputs": [],
   "source": [
    "data['handset_web_capability'] = data['handset_web_capability'].str.replace('UNKW', 'WCMB')"
   ]
  },
  {
   "cell_type": "code",
   "execution_count": 135,
   "metadata": {},
   "outputs": [
    {
     "data": {
      "text/plain": [
       "WCMB    75967\n",
       "WC      13843\n",
       "Name: handset_web_capability, dtype: int64"
      ]
     },
     "execution_count": 135,
     "metadata": {},
     "output_type": "execute_result"
    }
   ],
   "source": [
    "data.handset_web_capability.value_counts()"
   ]
  },
  {
   "cell_type": "code",
   "execution_count": 136,
   "metadata": {
    "scrolled": true
   },
   "outputs": [
    {
     "data": {
      "text/plain": [
       "U    37332\n",
       "M    31052\n",
       "S    17627\n",
       "B     7116\n",
       "A     5140\n",
       "Name: marital_status, dtype: int64"
      ]
     },
     "execution_count": 136,
     "metadata": {},
     "output_type": "execute_result"
    }
   ],
   "source": [
    "# Leaving 'U' as such because no information is available about the categories.\n",
    "data.marital_status.value_counts()"
   ]
  },
  {
   "cell_type": "markdown",
   "metadata": {},
   "source": [
    "### Dropping five columns of 'children in house' as data very sparse and not clear"
   ]
  },
  {
   "cell_type": "code",
   "execution_count": 137,
   "metadata": {},
   "outputs": [],
   "source": [
    "list_of_children = ['child_0_to_2_yrs_in_house', 'child_3_to_5_yrs_in_house',\n",
    "                   'child_6_to_10_yrs_in_house', 'child_11_to_15_yrs_in_house',\n",
    "                   'child_16_to_17_yrs_in_house']"
   ]
  },
  {
   "cell_type": "code",
   "execution_count": 138,
   "metadata": {},
   "outputs": [],
   "source": [
    "#redundant_unknown_features = [\"truck_indicator\", \"rv_indicator\", \"foreign_travel_dummy_variable\", \"infobase_match\"]"
   ]
  },
  {
   "cell_type": "code",
   "execution_count": 139,
   "metadata": {},
   "outputs": [],
   "source": [
    "def drop_feature(drop_list):\n",
    "    for feature in drop_list:\n",
    "        data.drop(feature, inplace=True, axis = 1)"
   ]
  },
  {
   "cell_type": "code",
   "execution_count": 140,
   "metadata": {},
   "outputs": [],
   "source": [
    "drop_feature(list_of_children)"
   ]
  },
  {
   "cell_type": "code",
   "execution_count": 141,
   "metadata": {},
   "outputs": [],
   "source": [
    "#drop_feature(redundant_unknown_features)"
   ]
  },
  {
   "cell_type": "code",
   "execution_count": 142,
   "metadata": {
    "scrolled": true
   },
   "outputs": [
    {
     "data": {
      "text/plain": [
       "(99999, 92)"
      ]
     },
     "execution_count": 142,
     "metadata": {},
     "output_type": "execute_result"
    }
   ],
   "source": [
    "data.shape"
   ]
  },
  {
   "cell_type": "markdown",
   "metadata": {},
   "source": [
    "### Now that we have removed some redundant columns, lets remove all 'nan' and create another dataset for analysis - dataset_without_NA_2.csv"
   ]
  },
  {
   "cell_type": "code",
   "execution_count": 143,
   "metadata": {},
   "outputs": [],
   "source": [
    "dataset_without_NA_2 = data.dropna(axis=0, how='any', thresh=None, subset=None, inplace=False)"
   ]
  },
  {
   "cell_type": "code",
   "execution_count": 144,
   "metadata": {},
   "outputs": [],
   "source": [
    "dataset_without_NA_2 = dataset_without_NA_2.reset_index()\n",
    "dataset_without_NA_2.drop('index', axis = 1, inplace=True)"
   ]
  },
  {
   "cell_type": "code",
   "execution_count": 145,
   "metadata": {},
   "outputs": [
    {
     "data": {
      "text/plain": [
       "(36132, 92)"
      ]
     },
     "execution_count": 145,
     "metadata": {},
     "output_type": "execute_result"
    }
   ],
   "source": [
    "dataset_without_NA_2.shape"
   ]
  },
  {
   "cell_type": "code",
   "execution_count": 146,
   "metadata": {},
   "outputs": [],
   "source": [
    "# Saving to a file\n",
    "\n",
    "#dataset_without_NA_2.to_csv(\"dataset_without_NA_2.csv\")"
   ]
  },
  {
   "cell_type": "markdown",
   "metadata": {},
   "source": [
    "### Moving towards Separating columns which appear numeric (continuous), but are actually factors or discrete numbers"
   ]
  },
  {
   "cell_type": "code",
   "execution_count": 147,
   "metadata": {},
   "outputs": [],
   "source": [
    "numeric_df = data.corr()"
   ]
  },
  {
   "cell_type": "code",
   "execution_count": 148,
   "metadata": {},
   "outputs": [
    {
     "data": {
      "text/html": [
       "<div>\n",
       "<style scoped>\n",
       "    .dataframe tbody tr th:only-of-type {\n",
       "        vertical-align: middle;\n",
       "    }\n",
       "\n",
       "    .dataframe tbody tr th {\n",
       "        vertical-align: top;\n",
       "    }\n",
       "\n",
       "    .dataframe thead th {\n",
       "        text-align: right;\n",
       "    }\n",
       "</style>\n",
       "<table border=\"1\" class=\"dataframe\">\n",
       "  <thead>\n",
       "    <tr style=\"text-align: right;\">\n",
       "      <th></th>\n",
       "      <th>avg_mthly_rev</th>\n",
       "      <th>avg_no_of_mthly_mins</th>\n",
       "      <th>avg_total_mthly_recurring_charge</th>\n",
       "      <th>avg_no_of_directory_assisted_calls</th>\n",
       "      <th>avg_overage_mins</th>\n",
       "      <th>avg_overage_rev</th>\n",
       "      <th>avg_rev_of_voice_overage</th>\n",
       "      <th>avg_rev_of_data_overage</th>\n",
       "      <th>avg_no_of_roaming_calls</th>\n",
       "      <th>percntg_change_in_mthly_mins_vs_previous_three_month_avg</th>\n",
       "      <th>...</th>\n",
       "      <th>current_handset_price</th>\n",
       "      <th>no_of_handsets_issued</th>\n",
       "      <th>no_of_models_issued</th>\n",
       "      <th>truck_indicator</th>\n",
       "      <th>rv_indicator</th>\n",
       "      <th>length_of_residence</th>\n",
       "      <th>no_of_adults_in_house</th>\n",
       "      <th>estimated_income</th>\n",
       "      <th>foreign_travel_dummy_variable</th>\n",
       "      <th>no_of_days_of_current_equipment</th>\n",
       "    </tr>\n",
       "  </thead>\n",
       "  <tbody>\n",
       "    <tr>\n",
       "      <th>count</th>\n",
       "      <td>99642.000000</td>\n",
       "      <td>99642.000000</td>\n",
       "      <td>99642.000000</td>\n",
       "      <td>99642.000000</td>\n",
       "      <td>99642.000000</td>\n",
       "      <td>99642.000000</td>\n",
       "      <td>99642.000000</td>\n",
       "      <td>99642.000000</td>\n",
       "      <td>99642.000000</td>\n",
       "      <td>99108.000000</td>\n",
       "      <td>...</td>\n",
       "      <td>99152.000000</td>\n",
       "      <td>99998.000000</td>\n",
       "      <td>99998.000000</td>\n",
       "      <td>98267.000000</td>\n",
       "      <td>98267.000000</td>\n",
       "      <td>69810.000000</td>\n",
       "      <td>76981.000000</td>\n",
       "      <td>74564.000000</td>\n",
       "      <td>98267.000000</td>\n",
       "      <td>99997.000000</td>\n",
       "    </tr>\n",
       "    <tr>\n",
       "      <th>mean</th>\n",
       "      <td>58.719894</td>\n",
       "      <td>513.565091</td>\n",
       "      <td>46.178746</td>\n",
       "      <td>0.888837</td>\n",
       "      <td>41.072659</td>\n",
       "      <td>13.559696</td>\n",
       "      <td>13.295195</td>\n",
       "      <td>0.261320</td>\n",
       "      <td>1.286418</td>\n",
       "      <td>-13.933959</td>\n",
       "      <td>...</td>\n",
       "      <td>101.875479</td>\n",
       "      <td>1.787126</td>\n",
       "      <td>1.545831</td>\n",
       "      <td>0.188822</td>\n",
       "      <td>0.082581</td>\n",
       "      <td>6.177238</td>\n",
       "      <td>2.530326</td>\n",
       "      <td>5.783112</td>\n",
       "      <td>0.057975</td>\n",
       "      <td>391.932238</td>\n",
       "    </tr>\n",
       "    <tr>\n",
       "      <th>std</th>\n",
       "      <td>46.291901</td>\n",
       "      <td>525.168255</td>\n",
       "      <td>23.623288</td>\n",
       "      <td>2.177628</td>\n",
       "      <td>97.296552</td>\n",
       "      <td>30.501008</td>\n",
       "      <td>30.056211</td>\n",
       "      <td>3.126547</td>\n",
       "      <td>14.711447</td>\n",
       "      <td>276.088898</td>\n",
       "      <td>...</td>\n",
       "      <td>61.005913</td>\n",
       "      <td>1.313981</td>\n",
       "      <td>0.898398</td>\n",
       "      <td>0.391369</td>\n",
       "      <td>0.275249</td>\n",
       "      <td>4.735267</td>\n",
       "      <td>1.452819</td>\n",
       "      <td>2.182132</td>\n",
       "      <td>0.233697</td>\n",
       "      <td>256.484711</td>\n",
       "    </tr>\n",
       "    <tr>\n",
       "      <th>min</th>\n",
       "      <td>-6.167500</td>\n",
       "      <td>0.000000</td>\n",
       "      <td>-26.915000</td>\n",
       "      <td>0.000000</td>\n",
       "      <td>0.000000</td>\n",
       "      <td>0.000000</td>\n",
       "      <td>0.000000</td>\n",
       "      <td>0.000000</td>\n",
       "      <td>0.000000</td>\n",
       "      <td>-3875.000000</td>\n",
       "      <td>...</td>\n",
       "      <td>9.989998</td>\n",
       "      <td>1.000000</td>\n",
       "      <td>1.000000</td>\n",
       "      <td>0.000000</td>\n",
       "      <td>0.000000</td>\n",
       "      <td>0.000000</td>\n",
       "      <td>1.000000</td>\n",
       "      <td>1.000000</td>\n",
       "      <td>0.000000</td>\n",
       "      <td>-5.000000</td>\n",
       "    </tr>\n",
       "    <tr>\n",
       "      <th>25%</th>\n",
       "      <td>33.260000</td>\n",
       "      <td>150.750000</td>\n",
       "      <td>30.000000</td>\n",
       "      <td>0.000000</td>\n",
       "      <td>0.000000</td>\n",
       "      <td>0.000000</td>\n",
       "      <td>0.000000</td>\n",
       "      <td>0.000000</td>\n",
       "      <td>0.000000</td>\n",
       "      <td>-87.000000</td>\n",
       "      <td>...</td>\n",
       "      <td>29.989990</td>\n",
       "      <td>1.000000</td>\n",
       "      <td>1.000000</td>\n",
       "      <td>0.000000</td>\n",
       "      <td>0.000000</td>\n",
       "      <td>2.000000</td>\n",
       "      <td>1.000000</td>\n",
       "      <td>4.000000</td>\n",
       "      <td>0.000000</td>\n",
       "      <td>212.000000</td>\n",
       "    </tr>\n",
       "    <tr>\n",
       "      <th>50%</th>\n",
       "      <td>48.195000</td>\n",
       "      <td>355.625000</td>\n",
       "      <td>44.990000</td>\n",
       "      <td>0.247500</td>\n",
       "      <td>2.750000</td>\n",
       "      <td>1.000000</td>\n",
       "      <td>0.682500</td>\n",
       "      <td>0.000000</td>\n",
       "      <td>0.000000</td>\n",
       "      <td>-6.250000</td>\n",
       "      <td>...</td>\n",
       "      <td>99.989990</td>\n",
       "      <td>1.000000</td>\n",
       "      <td>1.000000</td>\n",
       "      <td>0.000000</td>\n",
       "      <td>0.000000</td>\n",
       "      <td>5.000000</td>\n",
       "      <td>2.000000</td>\n",
       "      <td>6.000000</td>\n",
       "      <td>0.000000</td>\n",
       "      <td>342.000000</td>\n",
       "    </tr>\n",
       "    <tr>\n",
       "      <th>75%</th>\n",
       "      <td>70.750000</td>\n",
       "      <td>703.000000</td>\n",
       "      <td>59.990000</td>\n",
       "      <td>0.990000</td>\n",
       "      <td>42.000000</td>\n",
       "      <td>14.437500</td>\n",
       "      <td>14.025000</td>\n",
       "      <td>0.000000</td>\n",
       "      <td>0.235000</td>\n",
       "      <td>63.000000</td>\n",
       "      <td>...</td>\n",
       "      <td>149.989990</td>\n",
       "      <td>2.000000</td>\n",
       "      <td>2.000000</td>\n",
       "      <td>0.000000</td>\n",
       "      <td>0.000000</td>\n",
       "      <td>9.000000</td>\n",
       "      <td>3.000000</td>\n",
       "      <td>7.000000</td>\n",
       "      <td>0.000000</td>\n",
       "      <td>530.000000</td>\n",
       "    </tr>\n",
       "    <tr>\n",
       "      <th>max</th>\n",
       "      <td>3843.262500</td>\n",
       "      <td>12206.750000</td>\n",
       "      <td>409.990000</td>\n",
       "      <td>159.390000</td>\n",
       "      <td>4320.750000</td>\n",
       "      <td>1102.400000</td>\n",
       "      <td>896.087500</td>\n",
       "      <td>423.540000</td>\n",
       "      <td>3685.200000</td>\n",
       "      <td>31219.250000</td>\n",
       "      <td>...</td>\n",
       "      <td>499.989990</td>\n",
       "      <td>28.000000</td>\n",
       "      <td>16.000000</td>\n",
       "      <td>1.000000</td>\n",
       "      <td>1.000000</td>\n",
       "      <td>15.000000</td>\n",
       "      <td>6.000000</td>\n",
       "      <td>9.000000</td>\n",
       "      <td>1.000000</td>\n",
       "      <td>1823.000000</td>\n",
       "    </tr>\n",
       "  </tbody>\n",
       "</table>\n",
       "<p>8 rows × 77 columns</p>\n",
       "</div>"
      ],
      "text/plain": [
       "       avg_mthly_rev  avg_no_of_mthly_mins  avg_total_mthly_recurring_charge  \\\n",
       "count   99642.000000          99642.000000                      99642.000000   \n",
       "mean       58.719894            513.565091                         46.178746   \n",
       "std        46.291901            525.168255                         23.623288   \n",
       "min        -6.167500              0.000000                        -26.915000   \n",
       "25%        33.260000            150.750000                         30.000000   \n",
       "50%        48.195000            355.625000                         44.990000   \n",
       "75%        70.750000            703.000000                         59.990000   \n",
       "max      3843.262500          12206.750000                        409.990000   \n",
       "\n",
       "       avg_no_of_directory_assisted_calls  avg_overage_mins  avg_overage_rev  \\\n",
       "count                        99642.000000      99642.000000     99642.000000   \n",
       "mean                             0.888837         41.072659        13.559696   \n",
       "std                              2.177628         97.296552        30.501008   \n",
       "min                              0.000000          0.000000         0.000000   \n",
       "25%                              0.000000          0.000000         0.000000   \n",
       "50%                              0.247500          2.750000         1.000000   \n",
       "75%                              0.990000         42.000000        14.437500   \n",
       "max                            159.390000       4320.750000      1102.400000   \n",
       "\n",
       "       avg_rev_of_voice_overage  avg_rev_of_data_overage  \\\n",
       "count              99642.000000             99642.000000   \n",
       "mean                  13.295195                 0.261320   \n",
       "std                   30.056211                 3.126547   \n",
       "min                    0.000000                 0.000000   \n",
       "25%                    0.000000                 0.000000   \n",
       "50%                    0.682500                 0.000000   \n",
       "75%                   14.025000                 0.000000   \n",
       "max                  896.087500               423.540000   \n",
       "\n",
       "       avg_no_of_roaming_calls  \\\n",
       "count             99642.000000   \n",
       "mean                  1.286418   \n",
       "std                  14.711447   \n",
       "min                   0.000000   \n",
       "25%                   0.000000   \n",
       "50%                   0.000000   \n",
       "75%                   0.235000   \n",
       "max                3685.200000   \n",
       "\n",
       "       percntg_change_in_mthly_mins_vs_previous_three_month_avg  \\\n",
       "count                                       99108.000000          \n",
       "mean                                          -13.933959          \n",
       "std                                           276.088898          \n",
       "min                                         -3875.000000          \n",
       "25%                                           -87.000000          \n",
       "50%                                            -6.250000          \n",
       "75%                                            63.000000          \n",
       "max                                         31219.250000          \n",
       "\n",
       "                    ...                 current_handset_price  \\\n",
       "count               ...                          99152.000000   \n",
       "mean                ...                            101.875479   \n",
       "std                 ...                             61.005913   \n",
       "min                 ...                              9.989998   \n",
       "25%                 ...                             29.989990   \n",
       "50%                 ...                             99.989990   \n",
       "75%                 ...                            149.989990   \n",
       "max                 ...                            499.989990   \n",
       "\n",
       "       no_of_handsets_issued  no_of_models_issued  truck_indicator  \\\n",
       "count           99998.000000         99998.000000     98267.000000   \n",
       "mean                1.787126             1.545831         0.188822   \n",
       "std                 1.313981             0.898398         0.391369   \n",
       "min                 1.000000             1.000000         0.000000   \n",
       "25%                 1.000000             1.000000         0.000000   \n",
       "50%                 1.000000             1.000000         0.000000   \n",
       "75%                 2.000000             2.000000         0.000000   \n",
       "max                28.000000            16.000000         1.000000   \n",
       "\n",
       "       rv_indicator  length_of_residence  no_of_adults_in_house  \\\n",
       "count  98267.000000         69810.000000           76981.000000   \n",
       "mean       0.082581             6.177238               2.530326   \n",
       "std        0.275249             4.735267               1.452819   \n",
       "min        0.000000             0.000000               1.000000   \n",
       "25%        0.000000             2.000000               1.000000   \n",
       "50%        0.000000             5.000000               2.000000   \n",
       "75%        0.000000             9.000000               3.000000   \n",
       "max        1.000000            15.000000               6.000000   \n",
       "\n",
       "       estimated_income  foreign_travel_dummy_variable  \\\n",
       "count      74564.000000                   98267.000000   \n",
       "mean           5.783112                       0.057975   \n",
       "std            2.182132                       0.233697   \n",
       "min            1.000000                       0.000000   \n",
       "25%            4.000000                       0.000000   \n",
       "50%            6.000000                       0.000000   \n",
       "75%            7.000000                       0.000000   \n",
       "max            9.000000                       1.000000   \n",
       "\n",
       "       no_of_days_of_current_equipment  \n",
       "count                     99997.000000  \n",
       "mean                        391.932238  \n",
       "std                         256.484711  \n",
       "min                          -5.000000  \n",
       "25%                         212.000000  \n",
       "50%                         342.000000  \n",
       "75%                         530.000000  \n",
       "max                        1823.000000  \n",
       "\n",
       "[8 rows x 77 columns]"
      ]
     },
     "execution_count": 148,
     "metadata": {},
     "output_type": "execute_result"
    }
   ],
   "source": [
    "list_numeric_cols = list(numeric_df.columns)\n",
    "data[list_numeric_cols].describe()"
   ]
  },
  {
   "cell_type": "markdown",
   "metadata": {},
   "source": [
    "### Complete List of numeric features which are not continuous\n",
    "\n",
    "    - List used for imputing with 'mode' for these features"
   ]
  },
  {
   "cell_type": "code",
   "execution_count": 149,
   "metadata": {},
   "outputs": [],
   "source": [
    "list_of_numeric_factors = [\"no_of_unique_subscribers_in_the_house\",\n",
    "                           \"no_of_active_subscribers_in_house\",\n",
    "                           \"no_of_handsets_issued\",\n",
    "                           \"no_of_models_issued\",\n",
    "                           \"no_of_adults_in_house\",  \n",
    "                           \"estimated_income\",\n",
    "                           \"length_of_residence\", \n",
    "                           \"truck_indicator\",\n",
    "                           \"rv_indicator\",\n",
    "                           \"foreign_travel_dummy_variable\"]"
   ]
  },
  {
   "cell_type": "code",
   "execution_count": 150,
   "metadata": {},
   "outputs": [
    {
     "data": {
      "text/plain": [
       "67"
      ]
     },
     "execution_count": 150,
     "metadata": {},
     "output_type": "execute_result"
    }
   ],
   "source": [
    "numeric_features_set = set(list_numeric_cols) - set(list_of_numeric_factors)\n",
    "numeric_features = list(numeric_features_set)\n",
    "len(numeric_features)"
   ]
  },
  {
   "cell_type": "code",
   "execution_count": 151,
   "metadata": {},
   "outputs": [
    {
     "data": {
      "text/plain": [
       "15"
      ]
     },
     "execution_count": 151,
     "metadata": {},
     "output_type": "execute_result"
    }
   ],
   "source": [
    "categorical_features_set = set(list(data.columns)) - set(list_numeric_cols)\n",
    "categorical_features = list(categorical_features_set)\n",
    "len(categorical_features)"
   ]
  },
  {
   "cell_type": "code",
   "execution_count": 152,
   "metadata": {},
   "outputs": [],
   "source": [
    "cat_required = [\"AA\", \"A\", \"BA\", \"CA\", \"EA\"]\n",
    "cat_with_others = []\n",
    "\n",
    "for i in range(len(data)):\n",
    "    cat = data.credit_class_code[i]\n",
    "    \n",
    "    if cat in cat_required:\n",
    "        cat_with_others.append(cat)\n",
    "        \n",
    "    if cat not in cat_required:\n",
    "        cat_with_others.append(\"others\")\n",
    "    "
   ]
  },
  {
   "cell_type": "code",
   "execution_count": 153,
   "metadata": {},
   "outputs": [],
   "source": [
    "data.credit_class_code = cat_with_others"
   ]
  },
  {
   "cell_type": "code",
   "execution_count": 154,
   "metadata": {},
   "outputs": [],
   "source": [
    "ethnicity_code = []\n",
    "ethnicity_code_required = [\"X\", \"P\", \"M\", \"R\", \"D\", \"B\", \"F\"]\n",
    "\n",
    "for i in range(len(data)):\n",
    "    cat = data.ethnicity_roll_to_up_code[i]\n",
    "    \n",
    "    if cat in ethnicity_code_required:\n",
    "        ethnicity_code.append(\"others\")\n",
    "        \n",
    "    if cat not in ethnicity_code_required:\n",
    "        ethnicity_code.append(cat)\n",
    "        "
   ]
  },
  {
   "cell_type": "code",
   "execution_count": 155,
   "metadata": {},
   "outputs": [],
   "source": [
    "data['ethnicity_roll_to_up_code'] = ethnicity_code"
   ]
  },
  {
   "cell_type": "code",
   "execution_count": 156,
   "metadata": {},
   "outputs": [
    {
     "data": {
      "text/plain": [
       "array(['N', 'Z', 'U', 'I', 'S', 'others', 'J', 'H', 'G', 'O', nan, 'C'],\n",
       "      dtype=object)"
      ]
     },
     "execution_count": 156,
     "metadata": {},
     "output_type": "execute_result"
    }
   ],
   "source": [
    "data['ethnicity_roll_to_up_code'].unique()"
   ]
  },
  {
   "cell_type": "code",
   "execution_count": 157,
   "metadata": {},
   "outputs": [
    {
     "data": {
      "text/plain": [
       "array(['A', 'EA', 'others', 'BA', 'CA', 'AA'], dtype=object)"
      ]
     },
     "execution_count": 157,
     "metadata": {},
     "output_type": "execute_result"
    }
   ],
   "source": [
    "data.credit_class_code.unique()"
   ]
  },
  {
   "cell_type": "code",
   "execution_count": 158,
   "metadata": {},
   "outputs": [
    {
     "data": {
      "text/plain": [
       "(99999, 92)"
      ]
     },
     "execution_count": 158,
     "metadata": {},
     "output_type": "execute_result"
    }
   ],
   "source": [
    "data.shape"
   ]
  },
  {
   "cell_type": "code",
   "execution_count": 84,
   "metadata": {},
   "outputs": [],
   "source": [
    "from sklearn.preprocessing import PowerTransformer"
   ]
  },
  {
   "cell_type": "code",
   "execution_count": 185,
   "metadata": {},
   "outputs": [],
   "source": [
    "pt = PowerTransformer(method='yeo-johnson')   \n",
    "# default is 'yeo-johnson'  or  one could specify ‘box-cox’, which, only works with strictly positive values"
   ]
  },
  {
   "cell_type": "code",
   "execution_count": 104,
   "metadata": {},
   "outputs": [],
   "source": [
    "# An Example\n",
    "data_example = [[1, 2], [3, 2], [4, 5]]"
   ]
  },
  {
   "cell_type": "code",
   "execution_count": 105,
   "metadata": {},
   "outputs": [
    {
     "name": "stdout",
     "output_type": "stream",
     "text": [
      "PowerTransformer(copy=True, method='yeo-johnson', standardize=True)\n"
     ]
    }
   ],
   "source": [
    "print(pt.fit(data_example))"
   ]
  },
  {
   "cell_type": "code",
   "execution_count": 106,
   "metadata": {},
   "outputs": [
    {
     "name": "stdout",
     "output_type": "stream",
     "text": [
      "[1.38668178e+00 5.93926346e-09]\n"
     ]
    }
   ],
   "source": [
    "print(pt.lambdas_)"
   ]
  },
  {
   "cell_type": "code",
   "execution_count": 107,
   "metadata": {},
   "outputs": [
    {
     "name": "stdout",
     "output_type": "stream",
     "text": [
      "[[-1.31616039 -0.70710678]\n",
      " [ 0.20998268 -0.70710678]\n",
      " [ 1.1061777   1.41421356]]\n"
     ]
    }
   ],
   "source": [
    "print(pt.transform(data_example))"
   ]
  },
  {
   "cell_type": "markdown",
   "metadata": {},
   "source": [
    "#### Now applying Yeo - Johnson to numeric_df with 66 columns"
   ]
  },
  {
   "cell_type": "code",
   "execution_count": 186,
   "metadata": {},
   "outputs": [
    {
     "data": {
      "text/plain": [
       "PowerTransformer(copy=True, method='yeo-johnson', standardize=True)"
      ]
     },
     "execution_count": 186,
     "metadata": {},
     "output_type": "execute_result"
    }
   ],
   "source": [
    "pt.fit(numeric_df)"
   ]
  },
  {
   "cell_type": "code",
   "execution_count": 187,
   "metadata": {},
   "outputs": [
    {
     "data": {
      "text/plain": [
       "array([1.28986050e-01, 5.44486940e-01, 3.07388701e-01, 1.76777193e-11,\n",
       "       2.06223386e-01, 3.60996838e-02, 4.06526191e-10, 3.36604396e-10,\n",
       "       3.13917026e-01, 2.22507940e-01, 4.38028786e-10, 4.93717304e-11,\n",
       "       1.51281587e-01, 3.04441576e-01, 2.71644928e-01, 4.08674587e-10,\n",
       "       2.81383473e-01, 1.36754133e-01, 2.89284906e-01, 2.94009648e-01,\n",
       "       1.04257333e-02, 3.66248260e-02, 6.54754060e-02, 3.44317410e-11,\n",
       "       1.55823061e-10, 3.44317410e-11, 1.41014893e-11, 1.87551127e-12,\n",
       "       9.16289314e-01, 2.02793097e-01, 3.44317410e-11, 1.49424727e-01,\n",
       "       3.99534495e-10, 5.59934839e-01, 1.76770243e-01, 3.01773427e-01,\n",
       "       2.54951513e-01, 1.73703740e-10, 2.02600563e-09, 5.65392930e-02,\n",
       "       5.54974060e-11, 3.52238343e-10, 2.84936540e-01, 3.04916169e-02,\n",
       "       3.76379860e-09, 2.69343337e-10, 1.51449830e-09, 3.28345967e-08,\n",
       "       8.74639986e-11, 3.44317410e-11, 1.03628886e-01, 1.44560415e-01,\n",
       "       1.77224321e-10, 1.27490477e-01, 3.44317410e-11, 4.98730714e-01,\n",
       "       1.71751190e-09, 2.74109355e-01, 6.55795959e-10, 3.13465767e-01,\n",
       "       9.83223288e-01, 1.55823061e-10, 2.60978418e-02, 3.04526006e-09,\n",
       "       3.08060797e-01, 1.71228014e-01])"
      ]
     },
     "execution_count": 187,
     "metadata": {},
     "output_type": "execute_result"
    }
   ],
   "source": [
    "pt.lambdas_"
   ]
  },
  {
   "cell_type": "code",
   "execution_count": 188,
   "metadata": {},
   "outputs": [],
   "source": [
    "yeo_johnson_data = pt.transform(numeric_df)"
   ]
  },
  {
   "cell_type": "code",
   "execution_count": 190,
   "metadata": {},
   "outputs": [
    {
     "data": {
      "text/plain": [
       "99999"
      ]
     },
     "execution_count": 190,
     "metadata": {},
     "output_type": "execute_result"
    }
   ],
   "source": [
    "len(yeo_johnson_data)"
   ]
  },
  {
   "cell_type": "code",
   "execution_count": 191,
   "metadata": {},
   "outputs": [],
   "source": [
    "yeo_johnson_data_df = pd.DataFrame(data=yeo_johnson_data)"
   ]
  },
  {
   "cell_type": "code",
   "execution_count": 192,
   "metadata": {},
   "outputs": [
    {
     "data": {
      "text/html": [
       "<div>\n",
       "<style scoped>\n",
       "    .dataframe tbody tr th:only-of-type {\n",
       "        vertical-align: middle;\n",
       "    }\n",
       "\n",
       "    .dataframe tbody tr th {\n",
       "        vertical-align: top;\n",
       "    }\n",
       "\n",
       "    .dataframe thead th {\n",
       "        text-align: right;\n",
       "    }\n",
       "</style>\n",
       "<table border=\"1\" class=\"dataframe\">\n",
       "  <thead>\n",
       "    <tr style=\"text-align: right;\">\n",
       "      <th></th>\n",
       "      <th>0</th>\n",
       "      <th>1</th>\n",
       "      <th>2</th>\n",
       "      <th>3</th>\n",
       "      <th>4</th>\n",
       "      <th>5</th>\n",
       "      <th>6</th>\n",
       "      <th>7</th>\n",
       "      <th>8</th>\n",
       "      <th>9</th>\n",
       "      <th>...</th>\n",
       "      <th>56</th>\n",
       "      <th>57</th>\n",
       "      <th>58</th>\n",
       "      <th>59</th>\n",
       "      <th>60</th>\n",
       "      <th>61</th>\n",
       "      <th>62</th>\n",
       "      <th>63</th>\n",
       "      <th>64</th>\n",
       "      <th>65</th>\n",
       "    </tr>\n",
       "  </thead>\n",
       "  <tbody>\n",
       "    <tr>\n",
       "      <th>0</th>\n",
       "      <td>-1.066156</td>\n",
       "      <td>0.826798</td>\n",
       "      <td>-0.328820</td>\n",
       "      <td>-0.448723</td>\n",
       "      <td>-0.209734</td>\n",
       "      <td>-1.547910</td>\n",
       "      <td>-0.069862</td>\n",
       "      <td>-1.052027</td>\n",
       "      <td>-0.413039</td>\n",
       "      <td>-1.206385</td>\n",
       "      <td>...</td>\n",
       "      <td>-0.677761</td>\n",
       "      <td>-1.240796</td>\n",
       "      <td>-0.140061</td>\n",
       "      <td>-0.415984</td>\n",
       "      <td>-0.518636</td>\n",
       "      <td>-0.219844</td>\n",
       "      <td>-0.741817</td>\n",
       "      <td>-0.454277</td>\n",
       "      <td>-0.325282</td>\n",
       "      <td>-0.185105</td>\n",
       "    </tr>\n",
       "    <tr>\n",
       "      <th>1</th>\n",
       "      <td>0.243078</td>\n",
       "      <td>NaN</td>\n",
       "      <td>0.929355</td>\n",
       "      <td>-0.448723</td>\n",
       "      <td>1.854992</td>\n",
       "      <td>0.525417</td>\n",
       "      <td>-0.069862</td>\n",
       "      <td>-0.076471</td>\n",
       "      <td>0.960921</td>\n",
       "      <td>0.842557</td>\n",
       "      <td>...</td>\n",
       "      <td>1.070984</td>\n",
       "      <td>0.309002</td>\n",
       "      <td>-0.140061</td>\n",
       "      <td>0.954359</td>\n",
       "      <td>1.862811</td>\n",
       "      <td>-0.219844</td>\n",
       "      <td>-0.299461</td>\n",
       "      <td>-0.267534</td>\n",
       "      <td>0.937005</td>\n",
       "      <td>1.211198</td>\n",
       "    </tr>\n",
       "    <tr>\n",
       "      <th>2</th>\n",
       "      <td>-1.535475</td>\n",
       "      <td>-1.250579</td>\n",
       "      <td>-1.320873</td>\n",
       "      <td>-0.448723</td>\n",
       "      <td>1.747181</td>\n",
       "      <td>-1.547910</td>\n",
       "      <td>-0.069862</td>\n",
       "      <td>-1.052027</td>\n",
       "      <td>-1.273309</td>\n",
       "      <td>0.114208</td>\n",
       "      <td>...</td>\n",
       "      <td>-0.677761</td>\n",
       "      <td>0.199245</td>\n",
       "      <td>-0.140061</td>\n",
       "      <td>-1.274621</td>\n",
       "      <td>0.077599</td>\n",
       "      <td>-0.219844</td>\n",
       "      <td>-1.592736</td>\n",
       "      <td>-0.977491</td>\n",
       "      <td>-1.319491</td>\n",
       "      <td>-1.505747</td>\n",
       "    </tr>\n",
       "    <tr>\n",
       "      <th>3</th>\n",
       "      <td>-0.399079</td>\n",
       "      <td>-1.250579</td>\n",
       "      <td>-1.469194</td>\n",
       "      <td>-0.448723</td>\n",
       "      <td>-0.471355</td>\n",
       "      <td>-1.408959</td>\n",
       "      <td>-0.069862</td>\n",
       "      <td>-1.052027</td>\n",
       "      <td>-1.538104</td>\n",
       "      <td>-1.250859</td>\n",
       "      <td>...</td>\n",
       "      <td>-0.677761</td>\n",
       "      <td>-1.423545</td>\n",
       "      <td>-0.140061</td>\n",
       "      <td>-1.539066</td>\n",
       "      <td>0.087814</td>\n",
       "      <td>-0.219844</td>\n",
       "      <td>-0.378824</td>\n",
       "      <td>-0.977491</td>\n",
       "      <td>-1.468012</td>\n",
       "      <td>-1.124656</td>\n",
       "    </tr>\n",
       "    <tr>\n",
       "      <th>4</th>\n",
       "      <td>0.179097</td>\n",
       "      <td>0.826798</td>\n",
       "      <td>0.578185</td>\n",
       "      <td>-0.448723</td>\n",
       "      <td>1.060499</td>\n",
       "      <td>0.016563</td>\n",
       "      <td>-0.069862</td>\n",
       "      <td>-0.855021</td>\n",
       "      <td>0.781651</td>\n",
       "      <td>-0.457148</td>\n",
       "      <td>...</td>\n",
       "      <td>1.656787</td>\n",
       "      <td>-0.359494</td>\n",
       "      <td>-0.140061</td>\n",
       "      <td>0.775613</td>\n",
       "      <td>0.226827</td>\n",
       "      <td>-0.219844</td>\n",
       "      <td>0.197655</td>\n",
       "      <td>-0.454277</td>\n",
       "      <td>0.584568</td>\n",
       "      <td>0.749180</td>\n",
       "    </tr>\n",
       "  </tbody>\n",
       "</table>\n",
       "<p>5 rows × 66 columns</p>\n",
       "</div>"
      ],
      "text/plain": [
       "         0         1         2         3         4         5         6   \\\n",
       "0 -1.066156  0.826798 -0.328820 -0.448723 -0.209734 -1.547910 -0.069862   \n",
       "1  0.243078       NaN  0.929355 -0.448723  1.854992  0.525417 -0.069862   \n",
       "2 -1.535475 -1.250579 -1.320873 -0.448723  1.747181 -1.547910 -0.069862   \n",
       "3 -0.399079 -1.250579 -1.469194 -0.448723 -0.471355 -1.408959 -0.069862   \n",
       "4  0.179097  0.826798  0.578185 -0.448723  1.060499  0.016563 -0.069862   \n",
       "\n",
       "         7         8         9     ...           56        57        58  \\\n",
       "0 -1.052027 -0.413039 -1.206385    ...    -0.677761 -1.240796 -0.140061   \n",
       "1 -0.076471  0.960921  0.842557    ...     1.070984  0.309002 -0.140061   \n",
       "2 -1.052027 -1.273309  0.114208    ...    -0.677761  0.199245 -0.140061   \n",
       "3 -1.052027 -1.538104 -1.250859    ...    -0.677761 -1.423545 -0.140061   \n",
       "4 -0.855021  0.781651 -0.457148    ...     1.656787 -0.359494 -0.140061   \n",
       "\n",
       "         59        60        61        62        63        64        65  \n",
       "0 -0.415984 -0.518636 -0.219844 -0.741817 -0.454277 -0.325282 -0.185105  \n",
       "1  0.954359  1.862811 -0.219844 -0.299461 -0.267534  0.937005  1.211198  \n",
       "2 -1.274621  0.077599 -0.219844 -1.592736 -0.977491 -1.319491 -1.505747  \n",
       "3 -1.539066  0.087814 -0.219844 -0.378824 -0.977491 -1.468012 -1.124656  \n",
       "4  0.775613  0.226827 -0.219844  0.197655 -0.454277  0.584568  0.749180  \n",
       "\n",
       "[5 rows x 66 columns]"
      ]
     },
     "execution_count": 192,
     "metadata": {},
     "output_type": "execute_result"
    }
   ],
   "source": [
    "yeo_johnson_data_df.head()"
   ]
  },
  {
   "cell_type": "code",
   "execution_count": 193,
   "metadata": {},
   "outputs": [],
   "source": [
    "yeo_johnson_data_df.to_csv(\"yeo_johnson_data_df.csv\")"
   ]
  },
  {
   "cell_type": "markdown",
   "metadata": {},
   "source": [
    "###  THIS NOTEBOOK ENDS HERE "
   ]
  }
 ],
 "metadata": {
  "kernelspec": {
   "display_name": "Python 3",
   "language": "python",
   "name": "python3"
  },
  "language_info": {
   "codemirror_mode": {
    "name": "ipython",
    "version": 3
   },
   "file_extension": ".py",
   "mimetype": "text/x-python",
   "name": "python",
   "nbconvert_exporter": "python",
   "pygments_lexer": "ipython3",
   "version": "3.6.5"
  }
 },
 "nbformat": 4,
 "nbformat_minor": 2
}
